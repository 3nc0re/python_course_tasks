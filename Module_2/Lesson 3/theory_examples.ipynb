{
 "cells": [
  {
   "cell_type": "markdown",
   "id": "762c2c24",
   "metadata": {},
   "source": [
    "# Поняття класу. Поняття об'єкту."
   ]
  },
  {
   "cell_type": "code",
   "execution_count": null,
   "id": "a90a4e1c",
   "metadata": {},
   "outputs": [],
   "source": [
    "class Human:\n",
    "    species: str = \"homo sapiens\"\n",
    "    __thoughts: str = \"some mediocre stuff\"\n",
    "    \n",
    "    def __init__(self, name, age, gender, occupation) -> None:\n",
    "        self.name = name\n",
    "        self.age = age\n",
    "        self.gender = gender\n",
    "        self.occupation = occupation\n",
    "        \n",
    "    def speak(self) -> str:\n",
    "        return thoughts\n",
    "    \n",
    "    def breathe(self) -> str:\n",
    "        return \"ooooh\"\n"
   ]
  },
  {
   "cell_type": "code",
   "execution_count": null,
   "id": "9a8c8576",
   "metadata": {},
   "outputs": [],
   "source": [
    "Human.species"
   ]
  },
  {
   "cell_type": "code",
   "execution_count": null,
   "id": "822de5d4",
   "metadata": {},
   "outputs": [],
   "source": [
    "illia = Human(name = \"Illia\", age = 27, gender = \"male\", occupation = \"python tutor\")"
   ]
  },
  {
   "cell_type": "code",
   "execution_count": null,
   "id": "bc6e46bb",
   "metadata": {},
   "outputs": [],
   "source": [
    "illia.age"
   ]
  },
  {
   "cell_type": "code",
   "execution_count": null,
   "id": "821e830c",
   "metadata": {},
   "outputs": [],
   "source": [
    "illia.occupation"
   ]
  },
  {
   "cell_type": "markdown",
   "id": "f691ee15",
   "metadata": {},
   "source": [
    "# Класи - це задані користувачем типи даних. Їхні значення можуть бути елементами інших класів."
   ]
  },
  {
   "cell_type": "code",
   "execution_count": null,
   "id": "1273b9dd",
   "metadata": {},
   "outputs": [],
   "source": [
    "class Muse:\n",
    "    def __init__(self, name: str) -> None:\n",
    "        self.name: str = name\n",
    "    \n",
    "    def speak(self) -> str:\n",
    "        return \"Some Masterpiece\"\n",
    "    \n",
    "    def __repr__(self) -> str:\n",
    "        return self.name"
   ]
  },
  {
   "cell_type": "code",
   "execution_count": null,
   "id": "40f16dd3",
   "metadata": {},
   "outputs": [],
   "source": [
    "from typing import Union\n",
    "\n",
    "class Art:\n",
    "    def __init__(self, name: str, muse: Muse, description: Union[str, None] = None) -> None:\n",
    "        self.name: str = name\n",
    "        self.muse: Muse = muse\n",
    "        self.description: Union[str, None] = description\n",
    "\n",
    "    def __repr__(self) -> str:\n",
    "        return self.name"
   ]
  },
  {
   "cell_type": "code",
   "execution_count": null,
   "id": "832b8d3d",
   "metadata": {},
   "outputs": [],
   "source": [
    "from typing import Dict\n",
    "\n",
    "muses_and_arts: Dict[str, str] = {\n",
    "    \"Calliope\": \"Epic Poetry\",\n",
    "    \"Euterpe\": \"Flutes and Music\",\n",
    "    \"Melpomene\": \"Tragedy\",\n",
    "    \"Erato\": \"Love Poetry and Lyric Poetry\",\n",
    "    \"Polyhymnia\": \"Hymns and Sacred Poetry\",\n",
    "    \"Terpsichore\": \"Dance\",\n",
    "    \"Clio\": \"History\",\n",
    "    \"Urania\": \"Astronomy\",\n",
    "    \"Thalia\": \"Comedy and Pastoral Poetry\"\n",
    "}"
   ]
  },
  {
   "cell_type": "code",
   "execution_count": null,
   "id": "55642740",
   "metadata": {},
   "outputs": [],
   "source": [
    "from typing import List\n",
    "\n",
    "muses: Dict[str, Muse] = dict()\n",
    "ancient_arts: Dict[str, Art] = dict()\n",
    "\n",
    "for muse_name, art_name in muses_and_arts.items():\n",
    "    muse: Muse = Muse(muse_name)\n",
    "    muses[muse_name] = muse\n",
    "    art: Art = Art(art_name, muse)\n",
    "    ancient_arts[art_name] = art"
   ]
  },
  {
   "cell_type": "code",
   "execution_count": null,
   "id": "a815ec70",
   "metadata": {},
   "outputs": [],
   "source": [
    "ancient_arts[\"Epic Poetry\"]"
   ]
  },
  {
   "cell_type": "code",
   "execution_count": null,
   "id": "487b9bd4",
   "metadata": {},
   "outputs": [],
   "source": [
    "muses"
   ]
  },
  {
   "cell_type": "code",
   "execution_count": null,
   "id": "59d9188c",
   "metadata": {},
   "outputs": [],
   "source": [
    "arts_and_muses: Dict[str, Muse] = {ancient_art.name: ancient_art.muse for ancient_art in ancient_arts.values()}"
   ]
  },
  {
   "cell_type": "markdown",
   "id": "c821e903",
   "metadata": {},
   "source": [
    "# Три принципа ООП: \n",
    "* Інкапсуляція. Це об'єднання семантично близьких елементів у клас з можливістю працювати з класом або об'єктом як з black box. У випадку класу Human нам неважливо, як саме реалізован метод speak(). Але ми можемо ним скористатися. Інкапсуляція дозволяє нам працювати тільки з так званими \"публічними атрибутами\".\n",
    "* Наслідування. Це вибудова ієрархії сутностей. Існують люди різних гендерів, існують люди різних занять (артисти, поети та навіть програмісти).\n",
    "* Поліморфізм. Це обробка значень різних типів одними методами. Звичайна людина говорить дурню. Великі поети говорять великі думки. Але метод speak() у них один. Що в звичайної людини, що в великого поета один **інтерфейс взаємодії**."
   ]
  },
  {
   "cell_type": "code",
   "execution_count": null,
   "id": "7ee4cde7",
   "metadata": {},
   "outputs": [],
   "source": [
    "class Artist(Human):\n",
    "    thoughts: str = \"some great stuff\"\n",
    "    \n",
    "    def __init__(self, art: Art, *args, **kwargs) -> None:\n",
    "        self.art = art\n",
    "        self.muse = art.muse\n",
    "        super().__init__(*args, **kwargs)\n",
    "\n",
    "    def speak(self) -> str:\n",
    "        return self.muse.speak() + \" and \" + self.thoughts"
   ]
  },
  {
   "cell_type": "code",
   "execution_count": null,
   "id": "0626c03c",
   "metadata": {},
   "outputs": [],
   "source": [
    "homer = Artist(ancient_arts[\"Epic Poetry\"], \"Homer\", 2800, \"male\", \"great poet\")"
   ]
  },
  {
   "cell_type": "code",
   "execution_count": null,
   "id": "ff1e5e46",
   "metadata": {},
   "outputs": [],
   "source": [
    "homer.speak()"
   ]
  },
  {
   "cell_type": "code",
   "execution_count": null,
   "id": "ac762b6a",
   "metadata": {},
   "outputs": [],
   "source": [
    "homer.breathe()"
   ]
  }
 ],
 "metadata": {
  "kernelspec": {
   "display_name": "Python 3 (ipykernel)",
   "language": "python",
   "name": "python3"
  },
  "language_info": {
   "codemirror_mode": {
    "name": "ipython",
    "version": 3
   },
   "file_extension": ".py",
   "mimetype": "text/x-python",
   "name": "python",
   "nbconvert_exporter": "python",
   "pygments_lexer": "ipython3",
   "version": "3.9.16"
  }
 },
 "nbformat": 4,
 "nbformat_minor": 5
}
