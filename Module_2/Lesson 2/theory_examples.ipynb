{
 "cells": [
  {
   "cell_type": "markdown",
   "id": "78721d4c",
   "metadata": {},
   "source": [
    "# Замикання"
   ]
  },
  {
   "cell_type": "markdown",
   "id": "2793ac41",
   "metadata": {},
   "source": [
    "В Python функції можуть бути оголошені всередині інших функцій. У такому випадку, змінні, оголошені в тілі зовнішьної функції, будуть доступні внутрішнім функціям."
   ]
  },
  {
   "cell_type": "code",
   "execution_count": 4,
   "id": "bd4f68cd",
   "metadata": {},
   "outputs": [],
   "source": [
    "def closure_func():\n",
    "    a = 1\n",
    "    def inner_func():\n",
    "        print(f\"This i an a param: {a}\")\n",
    "    inner_func()"
   ]
  },
  {
   "cell_type": "code",
   "execution_count": 5,
   "id": "a8cd4781",
   "metadata": {},
   "outputs": [
    {
     "name": "stdout",
     "output_type": "stream",
     "text": [
      "This i an a param: 1\n"
     ]
    }
   ],
   "source": [
    "closure_func()"
   ]
  },
  {
   "cell_type": "markdown",
   "id": "0fdf077d",
   "metadata": {},
   "source": [
    "Це стосується, також, і аргументів функції:"
   ]
  },
  {
   "cell_type": "code",
   "execution_count": 6,
   "id": "419d44f6",
   "metadata": {},
   "outputs": [],
   "source": [
    "def yet_another_closure(arg1):\n",
    "    def inner_func():\n",
    "        return arg1**2\n",
    "    return inner_func()"
   ]
  },
  {
   "cell_type": "code",
   "execution_count": 7,
   "id": "e7c4e4b9",
   "metadata": {},
   "outputs": [
    {
     "data": {
      "text/plain": [
       "400"
      ]
     },
     "execution_count": 7,
     "metadata": {},
     "output_type": "execute_result"
    }
   ],
   "source": [
    "yet_another_closure(20)"
   ]
  },
  {
   "cell_type": "markdown",
   "id": "f9c373d5",
   "metadata": {},
   "source": [
    "### Замиканням (closure) inner_func ми назвемо набір змінних, доступних їй через те, що вони оголошені у зовнішній функції (closure_func або yet_another_closure). "
   ]
  },
  {
   "cell_type": "markdown",
   "id": "f69dae94",
   "metadata": {},
   "source": [
    "Область видимості, котру утворює замикання, називається не-локальною (nonlocal)."
   ]
  },
  {
   "cell_type": "markdown",
   "id": "828bb0d5",
   "metadata": {},
   "source": [
    "# Декоратори"
   ]
  },
  {
   "cell_type": "markdown",
   "id": "b35cbe9a",
   "metadata": {},
   "source": [
    "Декоратор - це спосіб \"обгорнути\", доповнити код певної функції."
   ]
  },
  {
   "cell_type": "code",
   "execution_count": 23,
   "id": "f0ec13eb",
   "metadata": {},
   "outputs": [],
   "source": [
    "from typing import Callable, TypeVar\n",
    "\n",
    "T = TypeVar(\"T\")\n",
    "\n",
    "def my_precious_decorator(func: Callable[T, T]) -> Callable[T, T]:\n",
    "    def wrap() -> T:\n",
    "        print(\"side effect yo!\")\n",
    "        func()\n",
    "        print(\"another side effect yo!\")\n",
    "    return wrap"
   ]
  },
  {
   "cell_type": "code",
   "execution_count": 24,
   "id": "6b018be9",
   "metadata": {},
   "outputs": [],
   "source": [
    "@my_precious_decorator\n",
    "def printer():\n",
    "    print(\"some stuff\")"
   ]
  },
  {
   "cell_type": "code",
   "execution_count": 25,
   "id": "786c2466",
   "metadata": {},
   "outputs": [
    {
     "name": "stdout",
     "output_type": "stream",
     "text": [
      "side effect yo!\n",
      "some stuff\n",
      "another side effect yo!\n"
     ]
    }
   ],
   "source": [
    "printer()"
   ]
  },
  {
   "cell_type": "markdown",
   "id": "40a5758e",
   "metadata": {},
   "source": [
    "Так само, ви можете обгортати функції з аргументами"
   ]
  },
  {
   "cell_type": "code",
   "execution_count": 26,
   "id": "531d4a74",
   "metadata": {},
   "outputs": [],
   "source": [
    "def yet_another_precious_decorator(func: Callable[T, T]) -> Callable[T, T]:\n",
    "    def wrap(*args, **kwargs) -> T:\n",
    "        print(\"Here we go again\")\n",
    "        a = func(*args, **kwargs)\n",
    "        print(\"We did our calculations\")\n",
    "        return a\n",
    "    return wrap"
   ]
  },
  {
   "cell_type": "code",
   "execution_count": 27,
   "id": "6bb725be",
   "metadata": {},
   "outputs": [],
   "source": [
    "@yet_another_precious_decorator\n",
    "def sum_all_vars(a, b, *args):\n",
    "    return a + b + sum(args)"
   ]
  },
  {
   "cell_type": "code",
   "execution_count": 28,
   "id": "b57652fe",
   "metadata": {},
   "outputs": [
    {
     "name": "stdout",
     "output_type": "stream",
     "text": [
      "Here we go again\n",
      "We did our calculations\n"
     ]
    },
    {
     "data": {
      "text/plain": [
       "55"
      ]
     },
     "execution_count": 28,
     "metadata": {},
     "output_type": "execute_result"
    }
   ],
   "source": [
    "sum_all_vars(1, 2, 3, 4, 5, 6, 7, 8, 9, 10)"
   ]
  },
  {
   "cell_type": "markdown",
   "id": "7cfb3577",
   "metadata": {},
   "source": [
    "І передавати аргументи в декоратор, або створювати змінні в декораторі."
   ]
  },
  {
   "cell_type": "code",
   "execution_count": 8,
   "id": "69fd2246",
   "metadata": {},
   "outputs": [],
   "source": [
    "def multiplicative_decorator(multiplier: int):\n",
    "    and_another_multiplier: int = 3\n",
    "    def inside_func(func):\n",
    "        def wrap(*args, **kwargs):\n",
    "            print(f\"This result will be altered my multiplying on {and_another_multiplier} and\\\n",
    "            {multiplier}\")\n",
    "            result = func(*args, **kwargs)\n",
    "            print(f\"Initial result {result}\")\n",
    "            return result*multiplier*and_another_multiplier\n",
    "        return wrap\n",
    "    return inside_func"
   ]
  },
  {
   "cell_type": "code",
   "execution_count": 9,
   "id": "311567d6",
   "metadata": {},
   "outputs": [],
   "source": [
    "@multiplicative_decorator(multiplier = 20)\n",
    "def reverse_and_sum(*args):\n",
    "    return 1/sum(args)"
   ]
  },
  {
   "cell_type": "code",
   "execution_count": 10,
   "id": "be8789f5",
   "metadata": {},
   "outputs": [
    {
     "name": "stdout",
     "output_type": "stream",
     "text": [
      "This result will be altered my multiplying on 3 and            20\n",
      "Initial result 0.03333333333333333\n"
     ]
    },
    {
     "data": {
      "text/plain": [
       "2.0"
      ]
     },
     "execution_count": 10,
     "metadata": {},
     "output_type": "execute_result"
    }
   ],
   "source": [
    "reverse_and_sum(1,2,3,4,5,7,8)"
   ]
  },
  {
   "cell_type": "markdown",
   "id": "b2072929",
   "metadata": {},
   "source": [
    "# Корисні декоратори"
   ]
  },
  {
   "cell_type": "markdown",
   "id": "0e9c09f8",
   "metadata": {},
   "source": [
    "Декоратори - хліб з маслом Python-програміста. Якщо ви їх не пишете, то ви їх точно будете постійно використовувати. \n",
    "\n",
    "Декілька найбільш потрібних декораторів (частину з них ви дізнаєтесь пізніше в рамках курсу з ООП):\n",
    "\n",
    "* @lru_cache\n",
    "* @property\n",
    "* @abstractmethod\n",
    "* @staticmethod\n",
    "* @dataclass\n",
    "* @jit\n",
    "* @app.get в FastAPI\n",
    "\n",
    "І так далі."
   ]
  },
  {
   "cell_type": "code",
   "execution_count": null,
   "id": "c2eb6bb7",
   "metadata": {},
   "outputs": [],
   "source": [
    "Гарний список Python-декораторів є (тут)[https://github.com/lord63/awesome-python-decorator]"
   ]
  }
 ],
 "metadata": {
  "kernelspec": {
   "display_name": "Python 3 (ipykernel)",
   "language": "python",
   "name": "python3"
  },
  "language_info": {
   "codemirror_mode": {
    "name": "ipython",
    "version": 3
   },
   "file_extension": ".py",
   "mimetype": "text/x-python",
   "name": "python",
   "nbconvert_exporter": "python",
   "pygments_lexer": "ipython3",
   "version": "3.9.16"
  }
 },
 "nbformat": 4,
 "nbformat_minor": 5
}
