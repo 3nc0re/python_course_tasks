{
 "cells": [
  {
   "cell_type": "markdown",
   "id": "8df6e11a",
   "metadata": {},
   "source": [
    "# Наслідування"
   ]
  },
  {
   "cell_type": "markdown",
   "id": "1a6a7521",
   "metadata": {},
   "source": [
    "Визначимо наслідування як можливість створювати новий клас на основі існуючого. "
   ]
  },
  {
   "cell_type": "code",
   "execution_count": 11,
   "id": "7334ce3e",
   "metadata": {},
   "outputs": [],
   "source": [
    "class ParentClass:\n",
    "    a = 10\n",
    "    \n",
    "class ChildClass(ParentClass):\n",
    "    pass"
   ]
  },
  {
   "cell_type": "code",
   "execution_count": 13,
   "id": "c77d848a",
   "metadata": {},
   "outputs": [
    {
     "data": {
      "text/plain": [
       "10"
      ]
     },
     "execution_count": 13,
     "metadata": {},
     "output_type": "execute_result"
    }
   ],
   "source": [
    "ParentClass.a"
   ]
  },
  {
   "cell_type": "code",
   "execution_count": 14,
   "id": "53a08c2a",
   "metadata": {},
   "outputs": [
    {
     "data": {
      "text/plain": [
       "10"
      ]
     },
     "execution_count": 14,
     "metadata": {},
     "output_type": "execute_result"
    }
   ],
   "source": [
    "ChildClass.a"
   ]
  },
  {
   "cell_type": "markdown",
   "id": "7defb2e3",
   "metadata": {},
   "source": [
    "# Клас може наслідуватися як від одного класу, так і від багатьох."
   ]
  },
  {
   "cell_type": "code",
   "execution_count": 29,
   "id": "fdd2f9ec",
   "metadata": {},
   "outputs": [],
   "source": [
    "class A:\n",
    "    a = 10\n",
    "    \n",
    "    def print_some_stuff(self):\n",
    "        print(\"some_stuff\")\n",
    "    \n",
    "class B:\n",
    "    b = 20\n",
    "    \n",
    "class C(A, B):\n",
    "    pass"
   ]
  },
  {
   "cell_type": "code",
   "execution_count": 30,
   "id": "25f22fd6",
   "metadata": {},
   "outputs": [
    {
     "data": {
      "text/plain": [
       "10"
      ]
     },
     "execution_count": 30,
     "metadata": {},
     "output_type": "execute_result"
    }
   ],
   "source": [
    "C.a"
   ]
  },
  {
   "cell_type": "code",
   "execution_count": 31,
   "id": "9b1be693",
   "metadata": {},
   "outputs": [
    {
     "data": {
      "text/plain": [
       "20"
      ]
     },
     "execution_count": 31,
     "metadata": {},
     "output_type": "execute_result"
    }
   ],
   "source": [
    "C.b"
   ]
  },
  {
   "cell_type": "code",
   "execution_count": 32,
   "id": "6b7e00f5",
   "metadata": {},
   "outputs": [
    {
     "name": "stdout",
     "output_type": "stream",
     "text": [
      "some_stuff\n"
     ]
    }
   ],
   "source": [
    "c = C()\n",
    "c.print_some_stuff()"
   ]
  },
  {
   "cell_type": "markdown",
   "id": "86c8ff84",
   "metadata": {},
   "source": [
    "# Однак, так робити не рекомендується. Це створює парадокс, котрий українською називається ромбовидним наслідування (або, англійською, [diamond problem](https://upload.wikimedia.org/wikipedia/commons/thumb/8/8e/Diamond_inheritance.svg/1024px-Diamond_inheritance.svg.png))"
   ]
  },
  {
   "cell_type": "code",
   "execution_count": 61,
   "id": "25322c0d",
   "metadata": {},
   "outputs": [],
   "source": [
    "class Base:\n",
    "    a = 10\n",
    "    \n",
    "class Child1(Base):\n",
    "    a = 20\n",
    "    \n",
    "class Child2(Base):\n",
    "    a = 30\n",
    "    \n",
    "class Child3(Base):\n",
    "    pass\n",
    "    \n",
    "class GrandChild(Child1, Child2):\n",
    "    pass\n",
    "\n",
    "class GrandChild2(Child2, Child1):\n",
    "    pass\n",
    "\n",
    "class GrandChild3(Child3, Child1, Child2):\n",
    "    pass"
   ]
  },
  {
   "cell_type": "code",
   "execution_count": 55,
   "id": "33750ff5",
   "metadata": {},
   "outputs": [
    {
     "data": {
      "text/plain": [
       "20"
      ]
     },
     "execution_count": 55,
     "metadata": {},
     "output_type": "execute_result"
    }
   ],
   "source": [
    "# Який буде результат цього коду?\n",
    "\n",
    "GrandChild.a"
   ]
  },
  {
   "cell_type": "code",
   "execution_count": 56,
   "id": "5f1f9e13",
   "metadata": {},
   "outputs": [
    {
     "data": {
      "text/plain": [
       "30"
      ]
     },
     "execution_count": 56,
     "metadata": {},
     "output_type": "execute_result"
    }
   ],
   "source": [
    "GrandChild2.a"
   ]
  },
  {
   "cell_type": "code",
   "execution_count": 57,
   "id": "5259ec19",
   "metadata": {},
   "outputs": [
    {
     "data": {
      "text/plain": [
       "20"
      ]
     },
     "execution_count": 57,
     "metadata": {},
     "output_type": "execute_result"
    }
   ],
   "source": [
    "GrandChild3.a"
   ]
  },
  {
   "cell_type": "markdown",
   "id": "3ddbc53f",
   "metadata": {},
   "source": [
    "# Можете запам'ятати порядок пошуку атрибуту в множинному наслідуванні в Python (в тому порядку, в котрому перелічені класи в наслідуванні). А, можете скористатися атрибутом __mro__"
   ]
  },
  {
   "cell_type": "code",
   "execution_count": 62,
   "id": "d5b6648e",
   "metadata": {},
   "outputs": [
    {
     "data": {
      "text/plain": [
       "(__main__.GrandChild3,\n",
       " __main__.Child3,\n",
       " __main__.Child1,\n",
       " __main__.Child2,\n",
       " __main__.Base,\n",
       " object)"
      ]
     },
     "execution_count": 62,
     "metadata": {},
     "output_type": "execute_result"
    }
   ],
   "source": [
    "GrandChild3.__mro__"
   ]
  },
  {
   "cell_type": "markdown",
   "id": "72732314",
   "metadata": {},
   "source": [
    "# Для доступу до атрибутів батьківського класу є метод super()."
   ]
  },
  {
   "cell_type": "code",
   "execution_count": 59,
   "id": "efbed073",
   "metadata": {},
   "outputs": [],
   "source": [
    "class Base:\n",
    "    a = 10\n",
    "    \n",
    "class Child1(Base):\n",
    "    a = 20\n",
    "    \n",
    "    def b(self):\n",
    "        print(self.a)\n",
    "        print(super().a)\n"
   ]
  },
  {
   "cell_type": "markdown",
   "id": "07698cef",
   "metadata": {},
   "source": [
    "# У випадку множинного наслідування super() працює не так однозначно (деталі в [відео](https://youtu.be/X1PQ7zzltz4))"
   ]
  },
  {
   "cell_type": "markdown",
   "id": "025cab7a",
   "metadata": {},
   "source": [
    "# Альтернативою наслідуванню є принцип під назвою композиція. Композицією є передача якогось функціоналу класу за допомогою передачі об'єкта іншого класу"
   ]
  },
  {
   "cell_type": "code",
   "execution_count": 70,
   "id": "a9dde1e1",
   "metadata": {},
   "outputs": [],
   "source": [
    "class A:\n",
    "    def some_func(self):\n",
    "        print(\"my functionality\")\n",
    "    \n",
    "class B(A):\n",
    "    pass\n",
    "\n",
    "class C:\n",
    "    a = A()"
   ]
  },
  {
   "cell_type": "code",
   "execution_count": 71,
   "id": "aac97230",
   "metadata": {},
   "outputs": [
    {
     "name": "stdout",
     "output_type": "stream",
     "text": [
      "my functionality\n"
     ]
    }
   ],
   "source": [
    "C.a.some_func()"
   ]
  }
 ],
 "metadata": {
  "kernelspec": {
   "display_name": "Python 3 (ipykernel)",
   "language": "python",
   "name": "python3"
  },
  "language_info": {
   "codemirror_mode": {
    "name": "ipython",
    "version": 3
   },
   "file_extension": ".py",
   "mimetype": "text/x-python",
   "name": "python",
   "nbconvert_exporter": "python",
   "pygments_lexer": "ipython3",
   "version": "3.9.16"
  }
 },
 "nbformat": 4,
 "nbformat_minor": 5
}
