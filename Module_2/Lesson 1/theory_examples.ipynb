{
 "cells": [
  {
   "cell_type": "markdown",
   "id": "1ddafe42",
   "metadata": {},
   "source": [
    "# Чисті функції"
   ]
  },
  {
   "cell_type": "code",
   "execution_count": null,
   "id": "76c9a6ea",
   "metadata": {},
   "outputs": [],
   "source": [
    "from typing import List, Any\n",
    "\n",
    "def not_a_pure_function(a: int, l: List[Any]) -> None:\n",
    "    \"\"\"This function performs side effects\"\"\"\n",
    "    l.append(a)"
   ]
  },
  {
   "cell_type": "code",
   "execution_count": null,
   "id": "e92a06dc",
   "metadata": {},
   "outputs": [],
   "source": [
    "l = [1, 2, 3]\n",
    "not_a_pure_function(a = 100, l = l)\n",
    "print(l)"
   ]
  },
  {
   "cell_type": "code",
   "execution_count": null,
   "id": "1ac4dadb",
   "metadata": {},
   "outputs": [],
   "source": [
    "not_a_pure_function(a = 100, l = l)\n",
    "print(l)"
   ]
  },
  {
   "cell_type": "code",
   "execution_count": null,
   "id": "54545d1b",
   "metadata": {},
   "outputs": [],
   "source": [
    "not_a_pure_function(a = 100, l = l)\n",
    "print(l)"
   ]
  },
  {
   "cell_type": "code",
   "execution_count": null,
   "id": "4ca826bc",
   "metadata": {},
   "outputs": [],
   "source": [
    "def pure_function(a: int, l: List[Any]) -> List[Any]:\n",
    "    \"\"\"This function does not produce any side effects, so it's can be called pure\"\"\"\n",
    "    new_l: List[Any] = l + [a]\n",
    "    return new_l"
   ]
  },
  {
   "cell_type": "code",
   "execution_count": null,
   "id": "41ec9cf3",
   "metadata": {},
   "outputs": [],
   "source": [
    "l = [1, 2, 3]\n",
    "new_l = pure_function(a = 100, l = l)\n",
    "print(l)\n",
    "print(new_l)"
   ]
  },
  {
   "cell_type": "code",
   "execution_count": null,
   "id": "61adb54d",
   "metadata": {},
   "outputs": [],
   "source": [
    "new_l1 = pure_function(a = 100, l = l)\n",
    "print(l)\n",
    "print(new_l1)"
   ]
  },
  {
   "cell_type": "code",
   "execution_count": null,
   "id": "62673050",
   "metadata": {},
   "outputs": [],
   "source": [
    "new_l2 = pure_function(a = 100, l = l)\n",
    "print(l)\n",
    "print(new_l2)"
   ]
  },
  {
   "cell_type": "code",
   "execution_count": null,
   "id": "e6dc2ec9",
   "metadata": {},
   "outputs": [],
   "source": [
    "def another_pure_function(var: float) -> float:\n",
    "    return var**2"
   ]
  },
  {
   "cell_type": "code",
   "execution_count": null,
   "id": "768d00dc",
   "metadata": {},
   "outputs": [],
   "source": [
    "another_pure_function(1)"
   ]
  },
  {
   "cell_type": "code",
   "execution_count": null,
   "id": "53b80d13",
   "metadata": {},
   "outputs": [],
   "source": [
    "another_pure_function(1)"
   ]
  },
  {
   "cell_type": "code",
   "execution_count": null,
   "id": "90a8053b",
   "metadata": {},
   "outputs": [],
   "source": [
    "def will_it_be_a_pure_function(var: float) -> None:\n",
    "    print(var)"
   ]
  },
  {
   "cell_type": "code",
   "execution_count": null,
   "id": "22690133",
   "metadata": {},
   "outputs": [],
   "source": [
    "will_it_be_a_pure_function(1)"
   ]
  },
  {
   "cell_type": "markdown",
   "id": "fd2801bc",
   "metadata": {},
   "source": [
    "# Композиція функцій"
   ]
  },
  {
   "cell_type": "code",
   "execution_count": null,
   "id": "a2b0ee25",
   "metadata": {},
   "outputs": [],
   "source": [
    "from calendar import day_name\n",
    "from datetime import time\n",
    "\n",
    "week_days: List[str] = [day for day in day_name]\n",
    "\n",
    "work_week_days: List[str] = week_days[0:6]\n",
    "weekend: List[str] = week_days[-2:]\n",
    "\n",
    "current_week_day: str = weekend[0]\n",
    "\n",
    "wake_up_early: bool = False\n",
    "is_alarm_set: bool = False\n",
    "wake_up_time: time = time(6, 55)\n",
    "work_day_alarm_time: time = time(7, 0)\n",
    "weekend_wake_up_time: time = time(12, 30)\n",
    "\n",
    "\n",
    "def wake_up(wake_up_time: time, \n",
    "            regular_wake_up_time: time,\n",
    "            weekend_wake_up_time: time,\n",
    "            wake_up_early: bool,\n",
    "            is_alarm_set: bool) -> time:\n",
    "    if wake_up_early:\n",
    "        wake_up_time: time = wake_up_time\n",
    "    elif is_alarm_set:\n",
    "        wake_up_time: time = regular_wake_up_time\n",
    "    else:\n",
    "        wake_up_time = weekend_wake_up_time\n",
    "    return wake_up_time\n",
    "\n",
    "def check_if_weekday_working(weekday: str) -> bool:\n",
    "    return weekday in work_week_days\n",
    "\n",
    "def should_begin_the_day(is_weekend: bool, \n",
    "                         wake_up_time: time,\n",
    "                         weekend_wakeup: time) -> bool:\n",
    "    return is_weekend and wake_up_time == weekend_wakeup"
   ]
  },
  {
   "cell_type": "code",
   "execution_count": null,
   "id": "5b1c581f",
   "metadata": {},
   "outputs": [],
   "source": [
    "is_late_wakeup = should_begin_the_day(\n",
    "    check_if_weekday_working(\n",
    "        current_week_day\n",
    "    ),\n",
    "    wake_up(\n",
    "        wake_up_time, \n",
    "        work_day_alarm_time, \n",
    "        weekend_wake_up_time, \n",
    "        wake_up_early, \n",
    "        is_alarm_set\n",
    "    ),\n",
    "    weekend_wake_up_time)"
   ]
  },
  {
   "cell_type": "code",
   "execution_count": null,
   "id": "98ca888c",
   "metadata": {},
   "outputs": [],
   "source": [
    "print(is_late_wakeup)"
   ]
  },
  {
   "cell_type": "markdown",
   "id": "2255ff3a",
   "metadata": {},
   "source": [
    "# Функції вищого порядку. "
   ]
  },
  {
   "cell_type": "code",
   "execution_count": 139,
   "id": "56d76508",
   "metadata": {},
   "outputs": [
    {
     "name": "stdout",
     "output_type": "stream",
     "text": [
      "3\n"
     ]
    }
   ],
   "source": [
    "# Будь яка функція, що приймає як аргумент іншу функцію - функція вищого порядку.\n",
    "\n",
    "from typing import Callable\n",
    "\n",
    "def add(arg1: int, arg2: int) -> int:\n",
    "    return arg1 + arg2\n",
    "\n",
    "\n",
    "def perform_arithmetics_operation(operation: Callable[int, int], arg1: int, arg2: int) -> int:\n",
    "    return operation(arg1, arg2)\n",
    "\n",
    "\n",
    "print(perform_arithmetics_operation(add, 1, 2))"
   ]
  },
  {
   "cell_type": "markdown",
   "id": "115c4ca6",
   "metadata": {},
   "source": [
    "# map, filter як приклади лінивого виконання. reduce як спосіб агрегації"
   ]
  },
  {
   "cell_type": "code",
   "execution_count": 142,
   "id": "8786dbbe",
   "metadata": {},
   "outputs": [],
   "source": [
    "from sys import getsizeof"
   ]
  },
  {
   "cell_type": "code",
   "execution_count": 147,
   "id": "1fe59358",
   "metadata": {},
   "outputs": [],
   "source": [
    "squares = map(lambda x: x**2, range(0, 100))"
   ]
  },
  {
   "cell_type": "code",
   "execution_count": 148,
   "id": "a8a2fc77",
   "metadata": {},
   "outputs": [
    {
     "data": {
      "text/plain": [
       "48"
      ]
     },
     "execution_count": 148,
     "metadata": {},
     "output_type": "execute_result"
    }
   ],
   "source": [
    "getsizeof(squares)"
   ]
  },
  {
   "cell_type": "code",
   "execution_count": 149,
   "id": "e32a3d74",
   "metadata": {},
   "outputs": [],
   "source": [
    "squares_of_squares = map(lambda x: x**2, squares)\n",
    "qubes_of_squares = map(lambda x: x**3, squares)"
   ]
  },
  {
   "cell_type": "code",
   "execution_count": 150,
   "id": "c5263d2a",
   "metadata": {},
   "outputs": [
    {
     "data": {
      "text/plain": [
       "48"
      ]
     },
     "execution_count": 150,
     "metadata": {},
     "output_type": "execute_result"
    }
   ],
   "source": [
    "getsizeof(squares_of_squares)"
   ]
  },
  {
   "cell_type": "code",
   "execution_count": 151,
   "id": "ba20ca8e",
   "metadata": {
    "scrolled": true
   },
   "outputs": [],
   "source": [
    "list_of_squares_of_squares = list(squares_of_squares)"
   ]
  },
  {
   "cell_type": "code",
   "execution_count": 152,
   "id": "37004d8a",
   "metadata": {},
   "outputs": [
    {
     "data": {
      "text/plain": [
       "920"
      ]
     },
     "execution_count": 152,
     "metadata": {},
     "output_type": "execute_result"
    }
   ],
   "source": [
    "getsizeof(list_of_squares_of_squares)"
   ]
  },
  {
   "cell_type": "code",
   "execution_count": 153,
   "id": "52fdb547",
   "metadata": {},
   "outputs": [
    {
     "data": {
      "text/plain": [
       "[]"
      ]
     },
     "execution_count": 153,
     "metadata": {},
     "output_type": "execute_result"
    }
   ],
   "source": [
    "list(qubes_of_squares)"
   ]
  },
  {
   "cell_type": "code",
   "execution_count": 154,
   "id": "fd658b9a",
   "metadata": {},
   "outputs": [],
   "source": [
    "only_evens = filter(lambda x: not x%2, range(20))"
   ]
  },
  {
   "cell_type": "code",
   "execution_count": 155,
   "id": "ccbe514f",
   "metadata": {},
   "outputs": [
    {
     "data": {
      "text/plain": [
       "[0, 2, 4, 6, 8, 10, 12, 14, 16, 18]"
      ]
     },
     "execution_count": 155,
     "metadata": {},
     "output_type": "execute_result"
    }
   ],
   "source": [
    "list(only_evens)"
   ]
  },
  {
   "cell_type": "code",
   "execution_count": 158,
   "id": "791ce00e",
   "metadata": {},
   "outputs": [
    {
     "data": {
      "text/plain": [
       "5050"
      ]
     },
     "execution_count": 158,
     "metadata": {},
     "output_type": "execute_result"
    }
   ],
   "source": [
    "from functools import reduce\n",
    "\n",
    "reduce(lambda a, b: a+b, range(1, 101))"
   ]
  },
  {
   "cell_type": "code",
   "execution_count": null,
   "id": "a241c9ca",
   "metadata": {},
   "outputs": [],
   "source": [
    "# Підрахуємо кількість елементів у списку\n",
    "\n",
    "l = [1,2,3,4,5,6]\n",
    "\n",
    "reduce(lambda a, b: a+1, l, 0)"
   ]
  },
  {
   "cell_type": "code",
   "execution_count": null,
   "id": "193ad410",
   "metadata": {},
   "outputs": [],
   "source": []
  },
  {
   "cell_type": "markdown",
   "id": "59821254",
   "metadata": {},
   "source": [
    "# Рекурсія"
   ]
  },
  {
   "cell_type": "code",
   "execution_count": 163,
   "id": "b890fdf9",
   "metadata": {},
   "outputs": [],
   "source": [
    "def factorial(n):\n",
    "    \"\"\"Рекуррентна імплементація факторіалу\"\"\"\n",
    "    if n == 1:\n",
    "        return 1\n",
    "    else:\n",
    "        return factorial(n - 1) * n"
   ]
  },
  {
   "cell_type": "code",
   "execution_count": 164,
   "id": "b7df8b10",
   "metadata": {},
   "outputs": [
    {
     "data": {
      "text/plain": [
       "720"
      ]
     },
     "execution_count": 164,
     "metadata": {},
     "output_type": "execute_result"
    }
   ],
   "source": [
    "factorial(6)"
   ]
  }
 ],
 "metadata": {
  "kernelspec": {
   "display_name": "Python 3 (ipykernel)",
   "language": "python",
   "name": "python3"
  },
  "language_info": {
   "codemirror_mode": {
    "name": "ipython",
    "version": 3
   },
   "file_extension": ".py",
   "mimetype": "text/x-python",
   "name": "python",
   "nbconvert_exporter": "python",
   "pygments_lexer": "ipython3",
   "version": "3.9.16"
  }
 },
 "nbformat": 4,
 "nbformat_minor": 5
}
