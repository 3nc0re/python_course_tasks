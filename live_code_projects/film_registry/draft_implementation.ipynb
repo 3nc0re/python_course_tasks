{
 "cells": [
  {
   "cell_type": "markdown",
   "id": "fea48978",
   "metadata": {},
   "source": [
    "Створити консольний застосунок для збереження інформації про фільми.\n",
    "\n",
    "Застосунок має мати можливість робити наступне:\n",
    "\n",
    "1. Створювати новий фільм в базі\n",
    "2. Переглядати інформацію про фільм\n",
    "3. Шукати фільм в базі\n",
    "4. Оновлювати фільм в базі\n",
    "5. Видаляти фільм з бази"
   ]
  },
  {
   "cell_type": "markdown",
   "id": "219a129d",
   "metadata": {},
   "source": [
    "# 1 крок: базові сутності, їхня структура та формат"
   ]
  },
  {
   "cell_type": "markdown",
   "id": "6332fce1",
   "metadata": {},
   "source": [
    "Базова сутність - фільм.\n",
    "Атрибути:\n",
    "\n",
    "1. Назва\n",
    "2. Жанр (опціонально)\n",
    "3. Рік випуску\n",
    "4. Режисер\n",
    "5. Рейтинг IMDB\n",
    "6. Склад акторів (опціонально)\n",
    "7. Вікові обмеження (опціонально)\n",
    "8. Тривалість (опціонально)\n",
    "9. Компанія-виробник\n",
    "10. Мова (опціонально)"
   ]
  },
  {
   "cell_type": "markdown",
   "id": "c5e881a3",
   "metadata": {},
   "source": [
    "# 2 крок: дії, котрі треба робити з базовою сутністю"
   ]
  },
  {
   "cell_type": "markdown",
   "id": "62cae044",
   "metadata": {},
   "source": [
    "Стандартний набір дій (CRUD)"
   ]
  },
  {
   "cell_type": "markdown",
   "id": "9ddeb789",
   "metadata": {},
   "source": [
    "# 3. Аналіз базових сутностей, типів даних і їх обмежень"
   ]
  },
  {
   "cell_type": "markdown",
   "id": "52fd43b2",
   "metadata": {},
   "source": [
    "    Назва: str\n",
    "    Жанр (опціонально): List[str], max = 3\n",
    "    Рік випуску: int > 0\n",
    "    Режисер: str, only alphabet chars\n",
    "    Рейтинг IMDB: float >= 0, round(2,1)\n",
    "    Склад акторів (опціонально): List[str]\n",
    "    Вікові обмеження (опціонально): str\n",
    "    Тривалість (опціонально): int\n",
    "    Мова (опціонально): str"
   ]
  },
  {
   "cell_type": "markdown",
   "id": "fdc000eb",
   "metadata": {},
   "source": [
    "# 4. Приклад реалізації базової сутності на Python"
   ]
  },
  {
   "cell_type": "code",
   "execution_count": 148,
   "id": "10fdf9b9",
   "metadata": {},
   "outputs": [],
   "source": [
    "example_film_dict = {\n",
    "    \"id\": 2,\n",
    "    \"name\": \"Аватар: Шлях води\",\n",
    "    \"genres\": [\"Action\"],\n",
    "    \"year\": 2022,\n",
    "    \"director\": \"James Cameron\",\n",
    "    \"imdb\": 7.8,\n",
    "}\n",
    "\n",
    "example_film_dict_2 = {\n",
    "    \"id\": 3,\n",
    "    \"name\": \"Аватар: Шлях води 3\",\n",
    "    \"genres\": [\"Action\"],\n",
    "    \"year\": 2022,\n",
    "    \"director\": \"James Cameron\",\n",
    "    \"imdb\": 7.8,    \n",
    "}"
   ]
  },
  {
   "cell_type": "markdown",
   "id": "c0732a37",
   "metadata": {},
   "source": [
    "# 5. Загальний сценарій використання"
   ]
  },
  {
   "cell_type": "markdown",
   "id": "9673913f",
   "metadata": {},
   "source": [
    "1. Користувач обирає команду щоб виконати\n",
    "2. Система вирішує, що зробити з базою фільмів згідно команди\n",
    "3. Система запитує в користувача додаткові дані за потреби\n",
    "4. Система видає якийсь очікуваний результат (дані про фільм, повідомлення про успішне створення фільму, повідомлення про успішне видалення фільму ітд)"
   ]
  },
  {
   "cell_type": "markdown",
   "id": "d95a26ea",
   "metadata": {},
   "source": [
    "# 6. Імплементація"
   ]
  },
  {
   "cell_type": "code",
   "execution_count": 154,
   "id": "2ee25e73",
   "metadata": {},
   "outputs": [
    {
     "data": {
      "text/plain": [
       "{1: {'name': 'Аватар: Шлях води',\n",
       "  'genres': ['Action'],\n",
       "  'year': 2022,\n",
       "  'director': 'James Cameron',\n",
       "  'imdb': 7.8},\n",
       " 2: {'name': 'Аватар: Шлях води 3',\n",
       "  'genres': ['Action'],\n",
       "  'year': 2022,\n",
       "  'director': 'James Cameron',\n",
       "  'imdb': 7.8}}"
      ]
     },
     "execution_count": 154,
     "metadata": {},
     "output_type": "execute_result"
    }
   ],
   "source": [
    "{\n",
    "    1: {\n",
    "    \"name\": \"Аватар: Шлях води\",\n",
    "    \"genres\": [\"Action\"],\n",
    "    \"year\": 2022,\n",
    "    \"director\": \"James Cameron\",\n",
    "    \"imdb\": 7.8,\n",
    "},\n",
    "    2: {\n",
    "    \"name\": \"Аватар: Шлях води 3\",\n",
    "    \"genres\": [\"Action\"],\n",
    "    \"year\": 2022,\n",
    "    \"director\": \"James Cameron\",\n",
    "    \"imdb\": 7.8,    \n",
    "},\n",
    "}"
   ]
  },
  {
   "cell_type": "code",
   "execution_count": 156,
   "id": "7e064ad5",
   "metadata": {},
   "outputs": [],
   "source": [
    "lists_container = dict()"
   ]
  },
  {
   "cell_type": "code",
   "execution_count": 157,
   "id": "f99c78c7",
   "metadata": {},
   "outputs": [],
   "source": [
    "def create_film():\n",
    "    pass\n",
    "\n",
    "def update_film():\n",
    "    pass\n",
    "\n",
    "def delete_film():\n",
    "    pass\n",
    "\n",
    "def read_film():\n",
    "    pass"
   ]
  },
  {
   "cell_type": "code",
   "execution_count": 196,
   "id": "b629e0b7",
   "metadata": {},
   "outputs": [],
   "source": [
    "new_dict = {\n",
    "    \"id\": {\n",
    "        1: {\n",
    "            \"name\": \"Avatar\",\n",
    "            \"director\": \"James Cameron\"\n",
    "        },\n",
    "        2: {\n",
    "            \"name\": \"Harry Potter\",\n",
    "            \"director\": \"Chis Colambus\"\n",
    "        }\n",
    "    }\n",
    "}"
   ]
  },
  {
   "cell_type": "code",
   "execution_count": 197,
   "id": "520708e2",
   "metadata": {},
   "outputs": [
    {
     "data": {
      "text/plain": [
       "{1: {'name': 'Avatar', 'director': 'James Cameron'},\n",
       " 2: {'name': 'Harry Potter', 'director': 'Chis Colambus'}}"
      ]
     },
     "execution_count": 197,
     "metadata": {},
     "output_type": "execute_result"
    }
   ],
   "source": [
    "new_dict[\"id\"]"
   ]
  },
  {
   "cell_type": "markdown",
   "id": "65ba98f2",
   "metadata": {},
   "source": [
    "Створимо головний фрагмент програми, де буде виконуватися логіка взаємодії з користувачем"
   ]
  },
  {
   "cell_type": "code",
   "execution_count": 175,
   "id": "f7247de4",
   "metadata": {},
   "outputs": [],
   "source": [
    "def read_command_from_user():\n",
    "    GREETING_TEXT = \"\"\"Вітаю в системі для збереження даних про фільми.\"\"\"\n",
    "\n",
    "\n",
    "    commands_container = [command.lower() for command in [\"create\", \"update\", \"read\", \"delete\"]]\n",
    "\n",
    "    print(GREETING_TEXT)\n",
    "    print(\"Print help for help\")\n",
    "\n",
    "    while True:\n",
    "        command = input(\"Введіть команду: \").lower()\n",
    "        if command == \"help\":\n",
    "            print(\"\"\"Вам доступні наступні команди:\"\"\")\n",
    "            for number, command in enumerate(commands_container):\n",
    "                print(f\"{number + 1}. {command}\")\n",
    "        elif command in commands_container:\n",
    "            break\n",
    "        else:\n",
    "            print(\"Введена невалідна команда. Введіть, будь ласка, команду ще раз\")\n",
    "    return command"
   ]
  },
  {
   "cell_type": "code",
   "execution_count": 186,
   "id": "693b190d",
   "metadata": {},
   "outputs": [],
   "source": [
    "def menu():\n",
    "    GREETING_TEXT = \"\"\"Welcome in 'Save film' system!\n",
    "You can enter next commands:\n",
    "1) Create\n",
    "2) Update\n",
    "3) Read\n",
    "4) Delete \"\"\"\n",
    "    commands_container = [command.lower() for command in [\"create\", \"update\", \"read\", \"delete\"]]\n",
    "    while True:\n",
    "        print(GREETING_TEXT)\n",
    "        command = input('Enter command: ')\n",
    "        if command.lower() in commands_container:\n",
    "            break\n",
    "        else:\n",
    "            print('You entered wrong command, try again.')\n",
    "    return command"
   ]
  },
  {
   "cell_type": "code",
   "execution_count": 187,
   "id": "3acc2f5e",
   "metadata": {},
   "outputs": [
    {
     "name": "stdout",
     "output_type": "stream",
     "text": [
      "Welcome in 'Save film' system!\n",
      "You can enter next commands:\n",
      "1) Create\n",
      "2) Update\n",
      "3) Read\n",
      "4) Delete \n",
      "Enter command: create\n"
     ]
    },
    {
     "data": {
      "text/plain": [
       "'create'"
      ]
     },
     "execution_count": 187,
     "metadata": {},
     "output_type": "execute_result"
    }
   ],
   "source": [
    "menu()"
   ]
  },
  {
   "cell_type": "code",
   "execution_count": 202,
   "id": "74d57876",
   "metadata": {},
   "outputs": [],
   "source": [
    "new_dict = {\n",
    "    \"films\": {\n",
    "        1: {\n",
    "            \"name\": \"Avatar\",\n",
    "            \"director\": \"James Cameron\"\n",
    "        },\n",
    "        2: {\n",
    "            \"name\": \"Harry Potter\",\n",
    "            \"director\": \"Chis Colambus\"\n",
    "        }\n",
    "    }\n",
    "}"
   ]
  },
  {
   "cell_type": "code",
   "execution_count": 200,
   "id": "4ce2bb75",
   "metadata": {},
   "outputs": [
    {
     "data": {
      "text/plain": [
       "{1: {'name': 'Avatar', 'director': 'James Cameron'},\n",
       " 2: {'name': 'Harry Potter', 'director': 'Chis Colambus'}}"
      ]
     },
     "execution_count": 200,
     "metadata": {},
     "output_type": "execute_result"
    }
   ],
   "source": [
    "new_dict[\"films\"]"
   ]
  },
  {
   "cell_type": "code",
   "execution_count": 185,
   "id": "8ed1c6ef",
   "metadata": {},
   "outputs": [
    {
     "name": "stdout",
     "output_type": "stream",
     "text": [
      "Welcome in 'Save film' system!\n",
      "You can enter next commands:\n",
      "1) Create\n",
      "2) Update\n",
      "3) Read\n",
      "4) Delete \n",
      "Enter command: create\n",
      "create\n",
      "<class 'str'>\n"
     ]
    }
   ],
   "source": [
    "a = menu(some_str)\n",
    "print(a)\n",
    "print(type(a))"
   ]
  },
  {
   "cell_type": "code",
   "execution_count": 177,
   "id": "19f3616c",
   "metadata": {},
   "outputs": [
    {
     "name": "stdout",
     "output_type": "stream",
     "text": [
      "Welcome in 'Save film' system!\n",
      "You can enter next commands:\n",
      "1) Create\n",
      "2) Update\n",
      "3) Read\n",
      "4) Delete \n",
      "Enter command: create\n"
     ]
    },
    {
     "data": {
      "text/plain": [
       "'create'"
      ]
     },
     "execution_count": 177,
     "metadata": {},
     "output_type": "execute_result"
    }
   ],
   "source": [
    "print(menu()"
   ]
  },
  {
   "cell_type": "code",
   "execution_count": 174,
   "id": "44b8c712",
   "metadata": {},
   "outputs": [],
   "source": [
    "if command == \"create\":\n",
    "    create_film()\n",
    "elif command == \"update\":\n",
    "    update_film()\n",
    "elif command == \"delete\":\n",
    "    delete_film()\n",
    "elif command == \"read\":\n",
    "    read_film()"
   ]
  },
  {
   "cell_type": "markdown",
   "id": "d6386faa",
   "metadata": {},
   "source": [
    "1. Дивимось на набір полів, котрі необхідні для фільму\n",
    "2. Запитуємо кожне з полів в юзера\n",
    "3. Валідуємо значення цих полів\n",
    "4. Якщо не валідне, запитуємо значення знову\n",
    "5. Повторюємо для необов'язкових полів, якщо значення не валідне чи не введене - пропускаємо\n",
    "6. Перевіряємо наявність фільму в базі"
   ]
  },
  {
   "cell_type": "markdown",
   "id": "39bcf2fc",
   "metadata": {},
   "source": [
    "Назва: str\n",
    "Жанр (опціонально): List[str], max = 3\n",
    "Рік випуску: int > 0\n",
    "Режисер: str, only alphabet chars\n",
    "Рейтинг IMDB: float >= 0, round(2,1)\n",
    "Склад акторів (опціонально): List[str]\n",
    "Вікові обмеження (опціонально): str\n",
    "Тривалість (опціонально): int\n",
    "Мова (опціонально): str"
   ]
  },
  {
   "cell_type": "code",
   "execution_count": 193,
   "id": "f537eb00",
   "metadata": {},
   "outputs": [],
   "source": [
    "# Валідатори обмежень\n",
    "\n",
    "def validate_int(value):\n",
    "    return value.isnumeric()\n",
    "\n",
    "def validate_float():\n",
    "    pass    \n",
    "\n",
    "def validate_num():\n",
    "    pass"
   ]
  },
  {
   "cell_type": "code",
   "execution_count": 195,
   "id": "1ce998eb",
   "metadata": {},
   "outputs": [],
   "source": [
    "# Валідатори полів\n",
    "\n",
    "def validate_name():\n",
    "    pass\n",
    "\n",
    "def validate_year():\n",
    "    return validate_int()\n",
    "    \n",
    "def validate_rank(rank):\n",
    "    return validate_float() and rank > 0"
   ]
  },
  {
   "cell_type": "code",
   "execution_count": null,
   "id": "6f562276",
   "metadata": {},
   "outputs": [],
   "source": []
  },
  {
   "cell_type": "code",
   "execution_count": 190,
   "id": "8f20750f",
   "metadata": {
    "scrolled": true
   },
   "outputs": [
    {
     "name": "stdout",
     "output_type": "stream",
     "text": [
      "Введить значення для поля name flfl\n",
      "Це поле не є валідним!\n",
      "Введить значення для поля name ffk\n",
      "Це поле не є валідним!\n"
     ]
    },
    {
     "ename": "KeyboardInterrupt",
     "evalue": "Interrupted by user",
     "output_type": "error",
     "traceback": [
      "\u001b[0;31m---------------------------------------------------------------------------\u001b[0m",
      "\u001b[0;31mKeyboardInterrupt\u001b[0m                         Traceback (most recent call last)",
      "\u001b[0;32m/tmp/ipykernel_110563/2601167688.py\u001b[0m in \u001b[0;36m<module>\u001b[0;34m\u001b[0m\n\u001b[1;32m      9\u001b[0m     \u001b[0mis_field_valid\u001b[0m \u001b[0;34m=\u001b[0m \u001b[0;32mFalse\u001b[0m\u001b[0;34m\u001b[0m\u001b[0;34m\u001b[0m\u001b[0m\n\u001b[1;32m     10\u001b[0m     \u001b[0;32mwhile\u001b[0m \u001b[0;32mnot\u001b[0m \u001b[0mis_field_valid\u001b[0m\u001b[0;34m:\u001b[0m\u001b[0;34m\u001b[0m\u001b[0;34m\u001b[0m\u001b[0m\n\u001b[0;32m---> 11\u001b[0;31m         \u001b[0mfield_value\u001b[0m \u001b[0;34m=\u001b[0m \u001b[0minput\u001b[0m\u001b[0;34m(\u001b[0m\u001b[0;34mf\"Введить значення для поля {field} \"\u001b[0m\u001b[0;34m)\u001b[0m\u001b[0;34m\u001b[0m\u001b[0;34m\u001b[0m\u001b[0m\n\u001b[0m\u001b[1;32m     12\u001b[0m         \u001b[0mis_field_valid\u001b[0m \u001b[0;34m=\u001b[0m \u001b[0mvalidate\u001b[0m\u001b[0;34m(\u001b[0m\u001b[0mfield_value\u001b[0m\u001b[0;34m)\u001b[0m\u001b[0;34m\u001b[0m\u001b[0;34m\u001b[0m\u001b[0m\n\u001b[1;32m     13\u001b[0m         \u001b[0;32mif\u001b[0m \u001b[0;32mnot\u001b[0m \u001b[0mis_field_valid\u001b[0m\u001b[0;34m:\u001b[0m\u001b[0;34m\u001b[0m\u001b[0;34m\u001b[0m\u001b[0m\n",
      "\u001b[0;32m~/anaconda3/lib/python3.9/site-packages/ipykernel/kernelbase.py\u001b[0m in \u001b[0;36mraw_input\u001b[0;34m(self, prompt)\u001b[0m\n\u001b[1;32m   1175\u001b[0m                 \u001b[0;34m\"raw_input was called, but this frontend does not support input requests.\"\u001b[0m\u001b[0;34m\u001b[0m\u001b[0;34m\u001b[0m\u001b[0m\n\u001b[1;32m   1176\u001b[0m             )\n\u001b[0;32m-> 1177\u001b[0;31m         return self._input_request(\n\u001b[0m\u001b[1;32m   1178\u001b[0m             \u001b[0mstr\u001b[0m\u001b[0;34m(\u001b[0m\u001b[0mprompt\u001b[0m\u001b[0;34m)\u001b[0m\u001b[0;34m,\u001b[0m\u001b[0;34m\u001b[0m\u001b[0;34m\u001b[0m\u001b[0m\n\u001b[1;32m   1179\u001b[0m             \u001b[0mself\u001b[0m\u001b[0;34m.\u001b[0m\u001b[0m_parent_ident\u001b[0m\u001b[0;34m[\u001b[0m\u001b[0;34m\"shell\"\u001b[0m\u001b[0;34m]\u001b[0m\u001b[0;34m,\u001b[0m\u001b[0;34m\u001b[0m\u001b[0;34m\u001b[0m\u001b[0m\n",
      "\u001b[0;32m~/anaconda3/lib/python3.9/site-packages/ipykernel/kernelbase.py\u001b[0m in \u001b[0;36m_input_request\u001b[0;34m(self, prompt, ident, parent, password)\u001b[0m\n\u001b[1;32m   1217\u001b[0m             \u001b[0;32mexcept\u001b[0m \u001b[0mKeyboardInterrupt\u001b[0m\u001b[0;34m:\u001b[0m\u001b[0;34m\u001b[0m\u001b[0;34m\u001b[0m\u001b[0m\n\u001b[1;32m   1218\u001b[0m                 \u001b[0;31m# re-raise KeyboardInterrupt, to truncate traceback\u001b[0m\u001b[0;34m\u001b[0m\u001b[0;34m\u001b[0m\u001b[0m\n\u001b[0;32m-> 1219\u001b[0;31m                 \u001b[0;32mraise\u001b[0m \u001b[0mKeyboardInterrupt\u001b[0m\u001b[0;34m(\u001b[0m\u001b[0;34m\"Interrupted by user\"\u001b[0m\u001b[0;34m)\u001b[0m \u001b[0;32mfrom\u001b[0m \u001b[0;32mNone\u001b[0m\u001b[0;34m\u001b[0m\u001b[0;34m\u001b[0m\u001b[0m\n\u001b[0m\u001b[1;32m   1220\u001b[0m             \u001b[0;32mexcept\u001b[0m \u001b[0mException\u001b[0m\u001b[0;34m:\u001b[0m\u001b[0;34m\u001b[0m\u001b[0;34m\u001b[0m\u001b[0m\n\u001b[1;32m   1221\u001b[0m                 \u001b[0mself\u001b[0m\u001b[0;34m.\u001b[0m\u001b[0mlog\u001b[0m\u001b[0;34m.\u001b[0m\u001b[0mwarning\u001b[0m\u001b[0;34m(\u001b[0m\u001b[0;34m\"Invalid Message:\"\u001b[0m\u001b[0;34m,\u001b[0m \u001b[0mexc_info\u001b[0m\u001b[0;34m=\u001b[0m\u001b[0;32mTrue\u001b[0m\u001b[0;34m)\u001b[0m\u001b[0;34m\u001b[0m\u001b[0;34m\u001b[0m\u001b[0m\n",
      "\u001b[0;31mKeyboardInterrupt\u001b[0m: Interrupted by user"
     ]
    }
   ],
   "source": [
    "\n",
    "\n",
    "mandatory_fields_list = [\"name\", \"year\", \"director\", \"imdb\"]\n",
    "\n",
    "non_mandatory_fields_list = [\"genre\", \"actors\", \"age\", \"duration\", \"language\"]\n",
    "\n",
    "for field in mandatory_fields_list:\n",
    "    is_field_valid = False\n",
    "    while not is_field_valid:\n",
    "        field_value = input(f\"Введить значення для поля {field} \")\n",
    "        is_field_valid = validate(field_value)\n",
    "        if not is_field_valid:\n",
    "            print(\"Це поле не є валідним!\")"
   ]
  },
  {
   "cell_type": "code",
   "execution_count": 191,
   "id": "bec6acc6",
   "metadata": {},
   "outputs": [],
   "source": []
  },
  {
   "cell_type": "code",
   "execution_count": null,
   "id": "297ae02a",
   "metadata": {},
   "outputs": [],
   "source": [
    "example_film_dict = {\n",
    "    \"id\": 2,\n",
    "    \"name\": \"Аватар: Шлях води\",\n",
    "    \"genres\": [\"Action\"],\n",
    "    \"year\": 2022,\n",
    "    \"director\": \"James Cameron\",\n",
    "    \"imdb\": 7.8,\n",
    "}"
   ]
  },
  {
   "cell_type": "code",
   "execution_count": 172,
   "id": "7cf286cd",
   "metadata": {},
   "outputs": [
    {
     "name": "stdout",
     "output_type": "stream",
     "text": [
      "Вітаю в системі для збереження даних про фільми.\n",
      "Print help for help\n",
      "Введіть команду: help\n",
      "Вам доступні наступні команди:\n",
      "1. create\n",
      "2. update\n",
      "3. read\n",
      "4. delete\n",
      "Введіть команду: create\n",
      "create\n"
     ]
    }
   ],
   "source": [
    "command_to_function_mapping = {\n",
    "    \"create\": create_film,\n",
    "    \"update\": update_film,\n",
    "    \"delete\": delete_film,\n",
    "    \"read\": read_film\n",
    "}"
   ]
  },
  {
   "cell_type": "code",
   "execution_count": null,
   "id": "5273d5b3",
   "metadata": {},
   "outputs": [],
   "source": []
  }
 ],
 "metadata": {
  "kernelspec": {
   "display_name": "Python 3 (ipykernel)",
   "language": "python",
   "name": "python3"
  },
  "language_info": {
   "codemirror_mode": {
    "name": "ipython",
    "version": 3
   },
   "file_extension": ".py",
   "mimetype": "text/x-python",
   "name": "python",
   "nbconvert_exporter": "python",
   "pygments_lexer": "ipython3",
   "version": "3.9.16"
  }
 },
 "nbformat": 4,
 "nbformat_minor": 5
}
