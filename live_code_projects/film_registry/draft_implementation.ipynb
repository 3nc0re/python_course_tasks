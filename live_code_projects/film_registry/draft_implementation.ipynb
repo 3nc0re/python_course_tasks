{
 "cells": [
  {
   "cell_type": "markdown",
   "id": "fea48978",
   "metadata": {},
   "source": [
    "Створити консольний застосунок для збереження інформації про фільми.\n",
    "\n",
    "Застосунок має мати можливість робити наступне:\n",
    "\n",
    "1. Створювати новий фільм в базі\n",
    "2. Переглядати інформацію про фільм\n",
    "3. Шукати фільм в базі\n",
    "4. Оновлювати фільм в базі\n",
    "5. Видаляти фільм з бази"
   ]
  },
  {
   "cell_type": "markdown",
   "id": "219a129d",
   "metadata": {},
   "source": [
    "# 1 крок: базові сутності, їхня структура та формат"
   ]
  },
  {
   "cell_type": "markdown",
   "id": "6332fce1",
   "metadata": {},
   "source": [
    "Базова сутність - фільм.\n",
    "Атрибути:\n",
    "\n",
    "1. Назва\n",
    "2. Жанр (опціонально)\n",
    "3. Рік випуску\n",
    "4. Режисер\n",
    "5. Рейтинг IMDB\n",
    "6. Склад акторів (опціонально)\n",
    "7. Вікові обмеження (опціонально)\n",
    "8. Тривалість (опціонально)\n",
    "9. Компанія-виробник\n",
    "10. Мова (опціонально)"
   ]
  },
  {
   "cell_type": "markdown",
   "id": "c5e881a3",
   "metadata": {},
   "source": [
    "# 2 крок: дії, котрі треба робити з базовою сутністю"
   ]
  },
  {
   "cell_type": "markdown",
   "id": "62cae044",
   "metadata": {},
   "source": [
    "Стандартний набір дій (CRUD)"
   ]
  },
  {
   "cell_type": "markdown",
   "id": "9ddeb789",
   "metadata": {},
   "source": [
    "# 3. Аналіз базових сутностей, типів даних і їх обмежень"
   ]
  },
  {
   "cell_type": "markdown",
   "id": "52fd43b2",
   "metadata": {},
   "source": [
    "    Назва: str\n",
    "    Жанр (опціонально): List[str], max = 3\n",
    "    Рік випуску: int > 0\n",
    "    Режисер: str, only alphabet chars\n",
    "    Рейтинг IMDB: float >= 0, round(2,1)\n",
    "    Склад акторів (опціонально): List[str]\n",
    "    Вікові обмеження (опціонально): str\n",
    "    Тривалість (опціонально): int\n",
    "    Мова (опціонально): str"
   ]
  },
  {
   "cell_type": "markdown",
   "id": "fdc000eb",
   "metadata": {},
   "source": [
    "# 4. Приклад реалізації базової сутності на Python"
   ]
  },
  {
   "cell_type": "code",
   "execution_count": 148,
   "id": "10fdf9b9",
   "metadata": {},
   "outputs": [],
   "source": [
    "example_film_dict = {\n",
    "    \"id\": 2,\n",
    "    \"name\": \"Аватар: Шлях води\",\n",
    "    \"genres\": [\"Action\"],\n",
    "    \"year\": 2022,\n",
    "    \"director\": \"James Cameron\",\n",
    "    \"imdb\": 7.8,\n",
    "}\n",
    "\n",
    "example_film_dict_2 = {\n",
    "    \"id\": 3,\n",
    "    \"name\": \"Аватар: Шлях води 3\",\n",
    "    \"genres\": [\"Action\"],\n",
    "    \"year\": 2022,\n",
    "    \"director\": \"James Cameron\",\n",
    "    \"imdb\": 7.8,    \n",
    "}"
   ]
  },
  {
   "cell_type": "markdown",
   "id": "c0732a37",
   "metadata": {},
   "source": [
    "# 5. Загальний сценарій використання"
   ]
  },
  {
   "cell_type": "markdown",
   "id": "9673913f",
   "metadata": {},
   "source": [
    "1. Користувач обирає команду щоб виконати\n",
    "2. Система вирішує, що зробити з базою фільмів згідно команди\n",
    "3. Система запитує в користувача додаткові дані за потреби\n",
    "4. Система видає якийсь очікуваний результат (дані про фільм, повідомлення про успішне створення фільму, повідомлення про успішне видалення фільму ітд)"
   ]
  },
  {
   "cell_type": "markdown",
   "id": "d95a26ea",
   "metadata": {},
   "source": [
    "# 6. Імплементація"
   ]
  },
  {
   "cell_type": "code",
   "execution_count": 154,
   "id": "2ee25e73",
   "metadata": {},
   "outputs": [
    {
     "data": {
      "text/plain": [
       "{1: {'name': 'Аватар: Шлях води',\n",
       "  'genres': ['Action'],\n",
       "  'year': 2022,\n",
       "  'director': 'James Cameron',\n",
       "  'imdb': 7.8},\n",
       " 2: {'name': 'Аватар: Шлях води 3',\n",
       "  'genres': ['Action'],\n",
       "  'year': 2022,\n",
       "  'director': 'James Cameron',\n",
       "  'imdb': 7.8}}"
      ]
     },
     "execution_count": 154,
     "metadata": {},
     "output_type": "execute_result"
    }
   ],
   "source": [
    "{\n",
    "    1: {\n",
    "    \"name\": \"Аватар: Шлях води\",\n",
    "    \"genres\": [\"Action\"],\n",
    "    \"year\": 2022,\n",
    "    \"director\": \"James Cameron\",\n",
    "    \"imdb\": 7.8,\n",
    "},\n",
    "    2: {\n",
    "    \"name\": \"Аватар: Шлях води 3\",\n",
    "    \"genres\": [\"Action\"],\n",
    "    \"year\": 2022,\n",
    "    \"director\": \"James Cameron\",\n",
    "    \"imdb\": 7.8,    \n",
    "},\n",
    "}"
   ]
  },
  {
   "cell_type": "code",
   "execution_count": 196,
   "id": "b629e0b7",
   "metadata": {},
   "outputs": [],
   "source": [
    "new_dict = {\n",
    "    \"id\": {\n",
    "        1: {\n",
    "            \"name\": \"Avatar\",\n",
    "            \"director\": \"James Cameron\"\n",
    "        },\n",
    "        2: {\n",
    "            \"name\": \"Harry Potter\",\n",
    "            \"director\": \"Chis Colambus\"\n",
    "        }\n",
    "    }\n",
    "}"
   ]
  },
  {
   "cell_type": "code",
   "execution_count": 197,
   "id": "520708e2",
   "metadata": {},
   "outputs": [
    {
     "data": {
      "text/plain": [
       "{1: {'name': 'Avatar', 'director': 'James Cameron'},\n",
       " 2: {'name': 'Harry Potter', 'director': 'Chis Colambus'}}"
      ]
     },
     "execution_count": 197,
     "metadata": {},
     "output_type": "execute_result"
    }
   ],
   "source": [
    "new_dict[\"id\"]"
   ]
  },
  {
   "cell_type": "markdown",
   "id": "65ba98f2",
   "metadata": {},
   "source": [
    "Створимо головний фрагмент програми, де буде виконуватися логіка взаємодії з користувачем"
   ]
  },
  {
   "cell_type": "code",
   "execution_count": 175,
   "id": "f7247de4",
   "metadata": {},
   "outputs": [],
   "source": [
    "def read_command_from_user():\n",
    "    GREETING_TEXT = \"\"\"Вітаю в системі для збереження даних про фільми.\"\"\"\n",
    "\n",
    "\n",
    "    commands_container = [command.lower() for command in [\"create\", \"update\", \"read\", \"delete\"]]\n",
    "\n",
    "    print(GREETING_TEXT)\n",
    "    print(\"Print help for help\")\n",
    "\n",
    "    while True:\n",
    "        command = input(\"Введіть команду: \").lower()\n",
    "        if command == \"help\":\n",
    "            print(\"\"\"Вам доступні наступні команди:\"\"\")\n",
    "            for number, command in enumerate(commands_container):\n",
    "                print(f\"{number + 1}. {command}\")\n",
    "        elif command in commands_container:\n",
    "            break\n",
    "        else:\n",
    "            print(\"Введена невалідна команда. Введіть, будь ласка, команду ще раз\")\n",
    "    return command"
   ]
  },
  {
   "cell_type": "code",
   "execution_count": 202,
   "id": "74d57876",
   "metadata": {},
   "outputs": [],
   "source": [
    "new_dict = {\n",
    "    \"films\": {\n",
    "        1: {\n",
    "            \"name\": \"Avatar\",\n",
    "            \"director\": \"James Cameron\"\n",
    "        },\n",
    "        2: {\n",
    "            \"name\": \"Harry Potter\",\n",
    "            \"director\": \"Chis Colambus\"\n",
    "        }\n",
    "    }\n",
    "}"
   ]
  },
  {
   "cell_type": "code",
   "execution_count": 200,
   "id": "4ce2bb75",
   "metadata": {},
   "outputs": [
    {
     "data": {
      "text/plain": [
       "{1: {'name': 'Avatar', 'director': 'James Cameron'},\n",
       " 2: {'name': 'Harry Potter', 'director': 'Chis Colambus'}}"
      ]
     },
     "execution_count": 200,
     "metadata": {},
     "output_type": "execute_result"
    }
   ],
   "source": [
    "new_dict[\"films\"]"
   ]
  },
  {
   "cell_type": "code",
   "execution_count": 185,
   "id": "8ed1c6ef",
   "metadata": {},
   "outputs": [
    {
     "name": "stdout",
     "output_type": "stream",
     "text": [
      "Welcome in 'Save film' system!\n",
      "You can enter next commands:\n",
      "1) Create\n",
      "2) Update\n",
      "3) Read\n",
      "4) Delete \n",
      "Enter command: create\n",
      "create\n",
      "<class 'str'>\n"
     ]
    }
   ],
   "source": [
    "a = menu(some_str)\n",
    "print(a)\n",
    "print(type(a))"
   ]
  },
  {
   "cell_type": "code",
   "execution_count": 177,
   "id": "19f3616c",
   "metadata": {},
   "outputs": [
    {
     "name": "stdout",
     "output_type": "stream",
     "text": [
      "Welcome in 'Save film' system!\n",
      "You can enter next commands:\n",
      "1) Create\n",
      "2) Update\n",
      "3) Read\n",
      "4) Delete \n",
      "Enter command: create\n"
     ]
    },
    {
     "data": {
      "text/plain": [
       "'create'"
      ]
     },
     "execution_count": 177,
     "metadata": {},
     "output_type": "execute_result"
    }
   ],
   "source": [
    "print(menu()"
   ]
  },
  {
   "cell_type": "code",
   "execution_count": 195,
   "id": "1ce998eb",
   "metadata": {},
   "outputs": [],
   "source": [
    "import re\n",
    "\n",
    "# Валідатори полів\n",
    "\n",
    "DEFAULT_NAME_LEN_THRESHOLD = 200\n",
    "LOW_YEAR_THRESHOLD = 1895\n",
    "\n",
    "\n",
    "def validate_name(value, len_threshold = DEFAULT_NAME_LEN_THRESHOLD):\n",
    "    # Перевіряємо довжину назви фільма, порожність назви фільма і щоб не було тільки пробілів і табуляцій\n",
    "    len_value = len(value)\n",
    "    is_len_appropriate = len_value < len_threshold\n",
    "    is_only_spaces_or_tabs = value.count(\" \") + value.count(\"\\t\") == len_value\n",
    "    return is_len_appropriate and not is_only_spaces_or_tabs\n",
    "    \n",
    "\n",
    "def validate_year(value):\n",
    "    is_numeric = value.isnumeric()\n",
    "    is_year_sane = value >= 1895\n",
    "    return is_numeric and is_year_sane\n",
    "\n",
    "def validate_director(value):\n",
    "    # Alphabet chars, spaces, dots, hyphens are allowed\n",
    "    is_dir_valid = value.replace(\" \", \"\").replace(\"-\", \"\").replace(\".\", \"\").isalpha()\n",
    "    # Another way of doing it via regex:\n",
    "    pattern = \"[\\w -]*$\"\n",
    "    try:\n",
    "        is_dir_valid_re = re.match(pattern, value).string == value\n",
    "    except AttributeError:\n",
    "        is_dir_valid_re = None\n",
    "    return is_dir_valid\n",
    "\n",
    "def validate_rank(value):\n",
    "    pattern_for_floats = \"^[0-9]+\\.[0-9]+$\"\n",
    "    try:\n",
    "        is_rank_valid_re = re.match(pattern_for_floats, value).string == value\n",
    "    except AttributeError:\n",
    "        is_rank_valid_re = None\n",
    "    return is_rank_valid_re\n"
   ]
  },
  {
   "cell_type": "code",
   "execution_count": 10,
   "id": "7e8bf6ea",
   "metadata": {},
   "outputs": [
    {
     "ename": "AttributeError",
     "evalue": "'NoneType' object has no attribute 'string'",
     "output_type": "error",
     "traceback": [
      "\u001b[0;31m---------------------------------------------------------------------------\u001b[0m",
      "\u001b[0;31mAttributeError\u001b[0m                            Traceback (most recent call last)",
      "Cell \u001b[0;32mIn[10], line 4\u001b[0m\n\u001b[1;32m      1\u001b[0m p \u001b[38;5;241m=\u001b[39m \u001b[38;5;124m\"\u001b[39m\u001b[38;5;124m^[0-9]+\u001b[39m\u001b[38;5;124m\\\u001b[39m\u001b[38;5;124m.[0-9]+$\u001b[39m\u001b[38;5;124m\"\u001b[39m\n\u001b[1;32m      2\u001b[0m f \u001b[38;5;241m=\u001b[39m \u001b[38;5;124m\"\u001b[39m\u001b[38;5;124m0...1\u001b[39m\u001b[38;5;124m\"\u001b[39m\n\u001b[0;32m----> 4\u001b[0m \u001b[43mre\u001b[49m\u001b[38;5;241;43m.\u001b[39;49m\u001b[43mmatch\u001b[49m\u001b[43m(\u001b[49m\u001b[43mp\u001b[49m\u001b[43m,\u001b[49m\u001b[43m \u001b[49m\u001b[43mf\u001b[49m\u001b[43m)\u001b[49m\u001b[38;5;241;43m.\u001b[39;49m\u001b[43mstring\u001b[49m \u001b[38;5;241m==\u001b[39m f\n",
      "\u001b[0;31mAttributeError\u001b[0m: 'NoneType' object has no attribute 'string'"
     ]
    }
   ],
   "source": [
    "p = \"^[0-9]+\\.[0-9]+$\"\n",
    "f = \"0...1\"\n",
    "\n",
    "re.match(p, f).string == f"
   ]
  },
  {
   "cell_type": "code",
   "execution_count": 5,
   "id": "68115d0c",
   "metadata": {},
   "outputs": [
    {
     "name": "stdout",
     "output_type": "stream",
     "text": [
      "Krzysztof Kieślowski Ілля Хороших\n"
     ]
    }
   ],
   "source": [
    "import re\n",
    "\n",
    "string = \"Krzysztof Kieślowski Ілля Хороших\"\n",
    "\n",
    "pattern1 = \"[a-zA-ZÀ-žА-я -]*$\"\n",
    "pattern2 = \"[\\w -]*$\"\n",
    "\n",
    "print(re.match(pattern2, string).string)"
   ]
  },
  {
   "cell_type": "code",
   "execution_count": 8,
   "id": "57c73f57",
   "metadata": {},
   "outputs": [
    {
     "data": {
      "text/plain": [
       "True"
      ]
     },
     "execution_count": 8,
     "metadata": {},
     "output_type": "execute_result"
    }
   ],
   "source": [
    "re.match(pattern2, string).string == string"
   ]
  },
  {
   "cell_type": "code",
   "execution_count": 11,
   "id": "7e064ad5",
   "metadata": {},
   "outputs": [],
   "source": [
    "films_container = dict()\n",
    "# Формат films_container:\n",
    "\n",
    "{\n",
    "    1: {\n",
    "    \"name\": \"FilmName\",\n",
    "    \"year\": 2023,\n",
    "    \"director\": \"Tommy Wiseau\",\n",
    "    \"imdb\": 9.8\n",
    "    },\n",
    "    2: {\n",
    "    \"name\": \"FilmName\",\n",
    "    \"year\": 2000,\n",
    "    \"director\": \"Tommy Wiseau Sr.\",\n",
    "    \"imdb\": 10\n",
    "    },\n",
    "}"
   ]
  },
  {
   "cell_type": "code",
   "execution_count": 12,
   "id": "f99c78c7",
   "metadata": {},
   "outputs": [],
   "source": [
    "def create_film() -> None:\n",
    "    \"\"\"Ця функція створює dict з даними про фільм за наступним принципом:\n",
    "    1. Дивиться у набір обов'язкових полів\n",
    "    2. Запитує у користувача значення для цього поля\n",
    "    3. Валідує це поле згідно оговорених правил\n",
    "    4. Якщо поле не валідно, повторити запит допоки не введено правильне значення\n",
    "    5. Створити dict з цих полів\n",
    "    6. Якщо фільма з таким самим набором полів не існує в films_container - зберегти його в цю змінну\n",
    "    Інакше - видати повідомлення (не робити raise exception)\n",
    "    \n",
    "    Hint 1: При збереженні в films_container треба створити унікальний ID у вигляді ключа, не забудьте про це\n",
    "    \n",
    "    Hint 2: зробіть валідатори для полів окремими функціями.\"\"\"\n",
    "    \n",
    "    mandatory_fields_dict = {\n",
    "    \"name\": validate_name,\n",
    "    \"year\": validate_year,\n",
    "    \"director\": validate_director,\n",
    "    \"imdb\": validate_rank\n",
    "    }\n",
    "\n",
    "    mandatory_fields_final_dict = dict()\n",
    "\n",
    "    for field_name, field_validator in mandatory_fields_dict.items():\n",
    "        is_field_valid = False\n",
    "        while not is_field_valid:\n",
    "            field_value = input(f\"Введить значення для поля {field} \")\n",
    "            is_field_valid = field_validator(field_value)\n",
    "            if not is_field_valid:\n",
    "                print(\"Це поле не є валідним!\")\n",
    "        mandatory_fields_final_dict[field_name] = field_value\n",
    "\n",
    "def read_film() -> None:\n",
    "    \"\"\"Ця функція шукає фільм у films_container за наступним принципом:\n",
    "    1. Функція запитує в користувача назву поля, за котрим вона шукає (має включати в себе також ID)\n",
    "    2. Функція шукає фільм в базі за ТОЧНИМ СПІВПАДІННЯМ запиту зі значенням в пам'яті.\n",
    "    3. Функція друкує на екран дані про фільм у людино-зрозумілій формі.\n",
    "    \n",
    "    Hint: нагадую про функцію values()\n",
    "    \"\"\"\n",
    "    pass\n",
    "\n",
    "\n",
    "def update_film() -> None:\n",
    "    \"\"\"Ця функція дозволяє оновлювати дані про фільм за наступним принципом:\n",
    "    1. Функція запитує ID фільму або ПОВНУ КОМБІНАЦІЮ полів, котрі відрізняють один фільм від іншого.\n",
    "    2. Функція запитує, яке поле користувач бажає змінити.\n",
    "    3. Функція валідує значення цього поля\n",
    "    4. Якщо фільм з подібною комбінацією полів уже існує, функція виводить повідомлення про помилку.\n",
    "       Якщо ні - робить запис у films_container.\n",
    "       \n",
    "    Hint: частина цієї функції схожа на те, що ми реалізували для create\"\"\"ґ\n",
    "    pass\n",
    "\n",
    "\n",
    "def delete_film() -> None:\n",
    "    \"\"\"Ця функція дозволяє видаляти фільм з бази.\n",
    "    1. Функція запитує ID фільму або ПОВНУ КОМБІНАЦІЮ полів, котрі відрізняють один фільм від іншого.\n",
    "    2. Функція валідує значення цього поля\n",
    "    4. Якщо фільм з подібною комбінацією полів існує, функція видаляє його із бази.\n",
    "    \n",
    "    Hint: погугліть про del чи pop\"\"\"\n",
    "    pass"
   ]
  },
  {
   "cell_type": "code",
   "execution_count": 174,
   "id": "44b8c712",
   "metadata": {},
   "outputs": [],
   "source": [
    "if command == \"create\":\n",
    "    create_film()\n",
    "elif command == \"update\":\n",
    "    update_film()\n",
    "elif command == \"delete\":\n",
    "    delete_film()\n",
    "elif command == \"read\":\n",
    "    read_film()"
   ]
  },
  {
   "cell_type": "markdown",
   "id": "d6386faa",
   "metadata": {},
   "source": [
    "1. Дивимось на набір полів, котрі необхідні для фільму\n",
    "2. Запитуємо кожне з полів в юзера\n",
    "3. Валідуємо значення цих полів\n",
    "4. Якщо не валідне, запитуємо значення знову\n",
    "5. Повторюємо для необов'язкових полів, якщо значення не валідне чи не введене - пропускаємо\n",
    "6. Перевіряємо наявність фільму в базі"
   ]
  },
  {
   "cell_type": "markdown",
   "id": "39bcf2fc",
   "metadata": {},
   "source": [
    "Назва: str\n",
    "Жанр (опціонально): List[str], max = 3\n",
    "Рік випуску: int > 0\n",
    "Режисер: str, only alphabet chars\n",
    "Рейтинг IMDB: float >= 0, round(2,1)\n",
    "Склад акторів (опціонально): List[str]\n",
    "Вікові обмеження (опціонально): str\n",
    "Тривалість (опціонально): int\n",
    "Мова (опціонально): str"
   ]
  },
  {
   "cell_type": "code",
   "execution_count": 16,
   "id": "5c368b46",
   "metadata": {},
   "outputs": [],
   "source": [
    "pattern = \"[a-zA-Z]|( )|-|\\.\""
   ]
  },
  {
   "cell_type": "code",
   "execution_count": null,
   "id": "6f562276",
   "metadata": {},
   "outputs": [],
   "source": [
    "non_mandatory_fields_list = [\"genre\", \"actors\", \"age\", \"duration\", \"language\"]\n"
   ]
  },
  {
   "cell_type": "code",
   "execution_count": 190,
   "id": "8f20750f",
   "metadata": {
    "scrolled": true
   },
   "outputs": [
    {
     "name": "stdout",
     "output_type": "stream",
     "text": [
      "Введить значення для поля name flfl\n",
      "Це поле не є валідним!\n",
      "Введить значення для поля name ffk\n",
      "Це поле не є валідним!\n"
     ]
    },
    {
     "ename": "KeyboardInterrupt",
     "evalue": "Interrupted by user",
     "output_type": "error",
     "traceback": [
      "\u001b[0;31m---------------------------------------------------------------------------\u001b[0m",
      "\u001b[0;31mKeyboardInterrupt\u001b[0m                         Traceback (most recent call last)",
      "\u001b[0;32m/tmp/ipykernel_110563/2601167688.py\u001b[0m in \u001b[0;36m<module>\u001b[0;34m\u001b[0m\n\u001b[1;32m      9\u001b[0m     \u001b[0mis_field_valid\u001b[0m \u001b[0;34m=\u001b[0m \u001b[0;32mFalse\u001b[0m\u001b[0;34m\u001b[0m\u001b[0;34m\u001b[0m\u001b[0m\n\u001b[1;32m     10\u001b[0m     \u001b[0;32mwhile\u001b[0m \u001b[0;32mnot\u001b[0m \u001b[0mis_field_valid\u001b[0m\u001b[0;34m:\u001b[0m\u001b[0;34m\u001b[0m\u001b[0;34m\u001b[0m\u001b[0m\n\u001b[0;32m---> 11\u001b[0;31m         \u001b[0mfield_value\u001b[0m \u001b[0;34m=\u001b[0m \u001b[0minput\u001b[0m\u001b[0;34m(\u001b[0m\u001b[0;34mf\"Введить значення для поля {field} \"\u001b[0m\u001b[0;34m)\u001b[0m\u001b[0;34m\u001b[0m\u001b[0;34m\u001b[0m\u001b[0m\n\u001b[0m\u001b[1;32m     12\u001b[0m         \u001b[0mis_field_valid\u001b[0m \u001b[0;34m=\u001b[0m \u001b[0mvalidate\u001b[0m\u001b[0;34m(\u001b[0m\u001b[0mfield_value\u001b[0m\u001b[0;34m)\u001b[0m\u001b[0;34m\u001b[0m\u001b[0;34m\u001b[0m\u001b[0m\n\u001b[1;32m     13\u001b[0m         \u001b[0;32mif\u001b[0m \u001b[0;32mnot\u001b[0m \u001b[0mis_field_valid\u001b[0m\u001b[0;34m:\u001b[0m\u001b[0;34m\u001b[0m\u001b[0;34m\u001b[0m\u001b[0m\n",
      "\u001b[0;32m~/anaconda3/lib/python3.9/site-packages/ipykernel/kernelbase.py\u001b[0m in \u001b[0;36mraw_input\u001b[0;34m(self, prompt)\u001b[0m\n\u001b[1;32m   1175\u001b[0m                 \u001b[0;34m\"raw_input was called, but this frontend does not support input requests.\"\u001b[0m\u001b[0;34m\u001b[0m\u001b[0;34m\u001b[0m\u001b[0m\n\u001b[1;32m   1176\u001b[0m             )\n\u001b[0;32m-> 1177\u001b[0;31m         return self._input_request(\n\u001b[0m\u001b[1;32m   1178\u001b[0m             \u001b[0mstr\u001b[0m\u001b[0;34m(\u001b[0m\u001b[0mprompt\u001b[0m\u001b[0;34m)\u001b[0m\u001b[0;34m,\u001b[0m\u001b[0;34m\u001b[0m\u001b[0;34m\u001b[0m\u001b[0m\n\u001b[1;32m   1179\u001b[0m             \u001b[0mself\u001b[0m\u001b[0;34m.\u001b[0m\u001b[0m_parent_ident\u001b[0m\u001b[0;34m[\u001b[0m\u001b[0;34m\"shell\"\u001b[0m\u001b[0;34m]\u001b[0m\u001b[0;34m,\u001b[0m\u001b[0;34m\u001b[0m\u001b[0;34m\u001b[0m\u001b[0m\n",
      "\u001b[0;32m~/anaconda3/lib/python3.9/site-packages/ipykernel/kernelbase.py\u001b[0m in \u001b[0;36m_input_request\u001b[0;34m(self, prompt, ident, parent, password)\u001b[0m\n\u001b[1;32m   1217\u001b[0m             \u001b[0;32mexcept\u001b[0m \u001b[0mKeyboardInterrupt\u001b[0m\u001b[0;34m:\u001b[0m\u001b[0;34m\u001b[0m\u001b[0;34m\u001b[0m\u001b[0m\n\u001b[1;32m   1218\u001b[0m                 \u001b[0;31m# re-raise KeyboardInterrupt, to truncate traceback\u001b[0m\u001b[0;34m\u001b[0m\u001b[0;34m\u001b[0m\u001b[0m\n\u001b[0;32m-> 1219\u001b[0;31m                 \u001b[0;32mraise\u001b[0m \u001b[0mKeyboardInterrupt\u001b[0m\u001b[0;34m(\u001b[0m\u001b[0;34m\"Interrupted by user\"\u001b[0m\u001b[0;34m)\u001b[0m \u001b[0;32mfrom\u001b[0m \u001b[0;32mNone\u001b[0m\u001b[0;34m\u001b[0m\u001b[0;34m\u001b[0m\u001b[0m\n\u001b[0m\u001b[1;32m   1220\u001b[0m             \u001b[0;32mexcept\u001b[0m \u001b[0mException\u001b[0m\u001b[0;34m:\u001b[0m\u001b[0;34m\u001b[0m\u001b[0;34m\u001b[0m\u001b[0m\n\u001b[1;32m   1221\u001b[0m                 \u001b[0mself\u001b[0m\u001b[0;34m.\u001b[0m\u001b[0mlog\u001b[0m\u001b[0;34m.\u001b[0m\u001b[0mwarning\u001b[0m\u001b[0;34m(\u001b[0m\u001b[0;34m\"Invalid Message:\"\u001b[0m\u001b[0;34m,\u001b[0m \u001b[0mexc_info\u001b[0m\u001b[0;34m=\u001b[0m\u001b[0;32mTrue\u001b[0m\u001b[0;34m)\u001b[0m\u001b[0;34m\u001b[0m\u001b[0;34m\u001b[0m\u001b[0m\n",
      "\u001b[0;31mKeyboardInterrupt\u001b[0m: Interrupted by user"
     ]
    }
   ],
   "source": []
  },
  {
   "cell_type": "code",
   "execution_count": 191,
   "id": "bec6acc6",
   "metadata": {},
   "outputs": [],
   "source": []
  },
  {
   "cell_type": "code",
   "execution_count": null,
   "id": "297ae02a",
   "metadata": {},
   "outputs": [],
   "source": [
    "example_film_dict = {\n",
    "    \"id\": 2,\n",
    "    \"name\": \"Аватар: Шлях води\",\n",
    "    \"genres\": [\"Action\"],\n",
    "    \"year\": 2022,\n",
    "    \"director\": \"James Cameron\",\n",
    "    \"imdb\": 7.8,\n",
    "}"
   ]
  },
  {
   "cell_type": "code",
   "execution_count": 172,
   "id": "7cf286cd",
   "metadata": {},
   "outputs": [
    {
     "name": "stdout",
     "output_type": "stream",
     "text": [
      "Вітаю в системі для збереження даних про фільми.\n",
      "Print help for help\n",
      "Введіть команду: help\n",
      "Вам доступні наступні команди:\n",
      "1. create\n",
      "2. update\n",
      "3. read\n",
      "4. delete\n",
      "Введіть команду: create\n",
      "create\n"
     ]
    }
   ],
   "source": [
    "command_to_function_mapping = {\n",
    "    \"create\": create_film,\n",
    "    \"update\": update_film,\n",
    "    \"delete\": delete_film,\n",
    "    \"read\": read_film\n",
    "}"
   ]
  },
  {
   "cell_type": "code",
   "execution_count": null,
   "id": "5273d5b3",
   "metadata": {},
   "outputs": [],
   "source": []
  }
 ],
 "metadata": {
  "kernelspec": {
   "display_name": "Python 3 (ipykernel)",
   "language": "python",
   "name": "python3"
  },
  "language_info": {
   "codemirror_mode": {
    "name": "ipython",
    "version": 3
   },
   "file_extension": ".py",
   "mimetype": "text/x-python",
   "name": "python",
   "nbconvert_exporter": "python",
   "pygments_lexer": "ipython3",
   "version": "3.9.16"
  }
 },
 "nbformat": 4,
 "nbformat_minor": 5
}
