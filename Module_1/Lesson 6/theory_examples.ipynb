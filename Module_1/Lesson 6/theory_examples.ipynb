{
 "cells": [
  {
   "cell_type": "markdown",
   "id": "69665fd3",
   "metadata": {},
   "source": [
    "# 1. List and set comprehensions"
   ]
  },
  {
   "cell_type": "code",
   "execution_count": null,
   "id": "21c54a99",
   "metadata": {},
   "outputs": [],
   "source": [
    "compr_list = [i for i in range(0, 10)]"
   ]
  },
  {
   "cell_type": "code",
   "execution_count": null,
   "id": "d5d853d6",
   "metadata": {},
   "outputs": [],
   "source": [
    "print(compr_list)"
   ]
  },
  {
   "cell_type": "code",
   "execution_count": null,
   "id": "300a7c24",
   "metadata": {},
   "outputs": [],
   "source": [
    "compr_list_str = \"Зродились ми великої години з пожеж війни і полум'я вогнів\""
   ]
  },
  {
   "cell_type": "code",
   "execution_count": null,
   "id": "e315db80",
   "metadata": {
    "scrolled": true
   },
   "outputs": [],
   "source": [
    "[symbol for symbol in compr_list_str]"
   ]
  },
  {
   "cell_type": "code",
   "execution_count": null,
   "id": "ff23a11e",
   "metadata": {},
   "outputs": [],
   "source": [
    "compr_set_1 = {i for i in range(0, 10)}"
   ]
  },
  {
   "cell_type": "code",
   "execution_count": null,
   "id": "2a0734e1",
   "metadata": {},
   "outputs": [],
   "source": [
    "print(compr_set_1)"
   ]
  },
  {
   "cell_type": "code",
   "execution_count": null,
   "id": "c8729c99",
   "metadata": {},
   "outputs": [],
   "source": [
    "compr_set_2 = {[i] for i in range(0, 10)}"
   ]
  },
  {
   "cell_type": "code",
   "execution_count": null,
   "id": "243ec1ba",
   "metadata": {},
   "outputs": [],
   "source": [
    "print(compr_set_2)"
   ]
  },
  {
   "cell_type": "code",
   "execution_count": null,
   "id": "f33f6dd6",
   "metadata": {},
   "outputs": [],
   "source": [
    "compr_set_3 = {(i) for i in range(0, 10)}"
   ]
  },
  {
   "cell_type": "code",
   "execution_count": null,
   "id": "234a8273",
   "metadata": {},
   "outputs": [],
   "source": [
    "print(compr_set_3)"
   ]
  },
  {
   "cell_type": "code",
   "execution_count": null,
   "id": "61e075aa",
   "metadata": {},
   "outputs": [],
   "source": [
    "#Tuple comprehension\n",
    "(i for i in range(0,10))"
   ]
  },
  {
   "cell_type": "code",
   "execution_count": null,
   "id": "5c0bb23a",
   "metadata": {},
   "outputs": [],
   "source": [
    "action_list_compr = [(m, m**2) for m in range(1,101) if m%10 == 0]"
   ]
  },
  {
   "cell_type": "code",
   "execution_count": null,
   "id": "cef144c9",
   "metadata": {},
   "outputs": [],
   "source": [
    "action_list_compr"
   ]
  },
  {
   "cell_type": "markdown",
   "id": "1b9605a1",
   "metadata": {},
   "source": [
    "# 2. Трошки про itertools"
   ]
  },
  {
   "cell_type": "code",
   "execution_count": null,
   "id": "226f2528",
   "metadata": {},
   "outputs": [],
   "source": [
    "import itertools"
   ]
  },
  {
   "cell_type": "code",
   "execution_count": null,
   "id": "d2a41ddd",
   "metadata": {},
   "outputs": [],
   "source": [
    "a = [1,2,3,4,5]\n",
    "b = [6,7,8,9,10]"
   ]
  },
  {
   "cell_type": "code",
   "execution_count": null,
   "id": "c507995d",
   "metadata": {},
   "outputs": [],
   "source": [
    "itertools.product(a, b)"
   ]
  },
  {
   "cell_type": "code",
   "execution_count": null,
   "id": "69978087",
   "metadata": {},
   "outputs": [],
   "source": [
    "list(itertools.product(a, b))"
   ]
  },
  {
   "cell_type": "code",
   "execution_count": null,
   "id": "1f03845b",
   "metadata": {},
   "outputs": [],
   "source": [
    "list(itertools.permutations(a))"
   ]
  },
  {
   "cell_type": "markdown",
   "id": "1b0b5dc2",
   "metadata": {},
   "source": [
    "# 3. sum() і map()"
   ]
  },
  {
   "cell_type": "code",
   "execution_count": null,
   "id": "b7b791e4",
   "metadata": {},
   "outputs": [],
   "source": [
    "a = [i**3 for i in range(0, 25) if i%3 == 1]"
   ]
  },
  {
   "cell_type": "code",
   "execution_count": null,
   "id": "f6247715",
   "metadata": {},
   "outputs": [],
   "source": [
    "sum(a)"
   ]
  },
  {
   "cell_type": "code",
   "execution_count": null,
   "id": "8216ad5b",
   "metadata": {},
   "outputs": [],
   "source": [
    "from math import sqrt\n",
    "\n",
    "sqrt_list = map(sqrt, a)\n",
    "str_list = map(str, a)"
   ]
  },
  {
   "cell_type": "code",
   "execution_count": null,
   "id": "fbfb01a5",
   "metadata": {},
   "outputs": [],
   "source": [
    "list(sqrt_list)"
   ]
  },
  {
   "cell_type": "code",
   "execution_count": null,
   "id": "32da2928",
   "metadata": {},
   "outputs": [],
   "source": [
    "list(str_list)"
   ]
  },
  {
   "cell_type": "markdown",
   "id": "cc01feaf",
   "metadata": {},
   "source": [
    "# 4. NumPy (прекрасна документація лежить [тут](https://numpy.org/doc/stable/user/absolute_beginners.html))"
   ]
  },
  {
   "cell_type": "code",
   "execution_count": null,
   "id": "f4963513",
   "metadata": {},
   "outputs": [],
   "source": [
    "import numpy as np"
   ]
  },
  {
   "cell_type": "code",
   "execution_count": null,
   "id": "d4e3b2dc",
   "metadata": {},
   "outputs": [],
   "source": [
    "np.arange(6)"
   ]
  },
  {
   "cell_type": "code",
   "execution_count": null,
   "id": "4cce6077",
   "metadata": {},
   "outputs": [],
   "source": [
    "type(np.arange(5))"
   ]
  },
  {
   "cell_type": "code",
   "execution_count": null,
   "id": "c9f42c50",
   "metadata": {},
   "outputs": [],
   "source": [
    "type(np.arange(19)[4])"
   ]
  },
  {
   "cell_type": "code",
   "execution_count": null,
   "id": "8f623c4c",
   "metadata": {},
   "outputs": [],
   "source": [
    "np.array([1, 2, 3])"
   ]
  },
  {
   "cell_type": "code",
   "execution_count": null,
   "id": "5120c507",
   "metadata": {},
   "outputs": [],
   "source": [
    "np.zeros(2)"
   ]
  },
  {
   "cell_type": "code",
   "execution_count": null,
   "id": "d1854a30",
   "metadata": {},
   "outputs": [],
   "source": [
    "type(np.zeros(4)[3])"
   ]
  },
  {
   "cell_type": "code",
   "execution_count": null,
   "id": "d374a1a7",
   "metadata": {},
   "outputs": [],
   "source": [
    "np.ones([10, 10])"
   ]
  },
  {
   "cell_type": "code",
   "execution_count": null,
   "id": "1d7ca093",
   "metadata": {},
   "outputs": [],
   "source": [
    "np.linspace(0, 10, num=100)"
   ]
  },
  {
   "cell_type": "code",
   "execution_count": null,
   "id": "d45f9b08",
   "metadata": {},
   "outputs": [],
   "source": [
    "np.ones([3, 3], dtype=np.int64)"
   ]
  },
  {
   "cell_type": "markdown",
   "id": "dbecfa33",
   "metadata": {},
   "source": [
    "# 5. Трохи про словники"
   ]
  },
  {
   "cell_type": "code",
   "execution_count": 4,
   "id": "828b6f0d",
   "metadata": {},
   "outputs": [],
   "source": [
    "d = {'a': 10, 'b': 20, 'c': 30}"
   ]
  },
  {
   "cell_type": "code",
   "execution_count": 6,
   "id": "c7fdef9b",
   "metadata": {},
   "outputs": [],
   "source": [
    "d.clear()"
   ]
  },
  {
   "cell_type": "code",
   "execution_count": 7,
   "id": "97741d09",
   "metadata": {},
   "outputs": [
    {
     "data": {
      "text/plain": [
       "{}"
      ]
     },
     "execution_count": 7,
     "metadata": {},
     "output_type": "execute_result"
    }
   ],
   "source": [
    "d"
   ]
  },
  {
   "cell_type": "code",
   "execution_count": 8,
   "id": "7723f6b9",
   "metadata": {},
   "outputs": [],
   "source": [
    "a = {1: 2}"
   ]
  },
  {
   "cell_type": "code",
   "execution_count": null,
   "id": "7e7dfe67",
   "metadata": {},
   "outputs": [],
   "source": [
    "b = (a: 2)"
   ]
  },
  {
   "cell_type": "code",
   "execution_count": 9,
   "id": "e0c92129",
   "metadata": {},
   "outputs": [
    {
     "data": {
      "text/plain": [
       "'Default value'"
      ]
     },
     "execution_count": 9,
     "metadata": {},
     "output_type": "execute_result"
    }
   ],
   "source": [
    "a.get(6, \"Default value\")"
   ]
  },
  {
   "cell_type": "code",
   "execution_count": 37,
   "id": "1c6c451c",
   "metadata": {},
   "outputs": [],
   "source": [
    "dict_from_compr = {key: key**2 for key in range(0,10)}"
   ]
  },
  {
   "cell_type": "code",
   "execution_count": 38,
   "id": "b588fe5c",
   "metadata": {},
   "outputs": [
    {
     "data": {
      "text/plain": [
       "dict_keys([0, 1, 2, 3, 4, 5, 6, 7, 8, 9])"
      ]
     },
     "execution_count": 38,
     "metadata": {},
     "output_type": "execute_result"
    }
   ],
   "source": [
    "dict_from_compr.keys()"
   ]
  },
  {
   "cell_type": "code",
   "execution_count": 39,
   "id": "eb5e3233",
   "metadata": {},
   "outputs": [
    {
     "data": {
      "text/plain": [
       "dict_values([0, 1, 4, 9, 16, 25, 36, 49, 64, 81])"
      ]
     },
     "execution_count": 39,
     "metadata": {},
     "output_type": "execute_result"
    }
   ],
   "source": [
    "dict_from_compr.values()"
   ]
  },
  {
   "cell_type": "code",
   "execution_count": 40,
   "id": "89696783",
   "metadata": {},
   "outputs": [
    {
     "data": {
      "text/plain": [
       "dict_items([(0, 0), (1, 1), (2, 4), (3, 9), (4, 16), (5, 25), (6, 36), (7, 49), (8, 64), (9, 81)])"
      ]
     },
     "execution_count": 40,
     "metadata": {},
     "output_type": "execute_result"
    }
   ],
   "source": [
    "dict_from_compr.items()"
   ]
  },
  {
   "cell_type": "code",
   "execution_count": 41,
   "id": "1742ab0a",
   "metadata": {},
   "outputs": [
    {
     "ename": "TypeError",
     "evalue": "pop expected at least 1 argument, got 0",
     "output_type": "error",
     "traceback": [
      "\u001b[0;31m---------------------------------------------------------------------------\u001b[0m",
      "\u001b[0;31mTypeError\u001b[0m                                 Traceback (most recent call last)",
      "\u001b[0;32m/tmp/ipykernel_579496/1734739863.py\u001b[0m in \u001b[0;36m<module>\u001b[0;34m\u001b[0m\n\u001b[0;32m----> 1\u001b[0;31m \u001b[0mdict_from_compr\u001b[0m\u001b[0;34m.\u001b[0m\u001b[0mpop\u001b[0m\u001b[0;34m(\u001b[0m\u001b[0;34m)\u001b[0m\u001b[0;34m\u001b[0m\u001b[0;34m\u001b[0m\u001b[0m\n\u001b[0m",
      "\u001b[0;31mTypeError\u001b[0m: pop expected at least 1 argument, got 0"
     ]
    }
   ],
   "source": [
    "dict_from_compr.pop(0)"
   ]
  },
  {
   "cell_type": "code",
   "execution_count": 44,
   "id": "6ab21d8d",
   "metadata": {},
   "outputs": [
    {
     "data": {
      "text/plain": [
       "'Default value'"
      ]
     },
     "execution_count": 44,
     "metadata": {},
     "output_type": "execute_result"
    }
   ],
   "source": [
    "dict_from_compr.pop(-1, \"Default value\")"
   ]
  },
  {
   "cell_type": "code",
   "execution_count": 24,
   "id": "957271f0",
   "metadata": {},
   "outputs": [
    {
     "data": {
      "text/plain": [
       "{1: 1, 2: 4, 3: 9, 4: 16, 5: 25, 6: 36, 7: 49, 8: 64, 9: 81}"
      ]
     },
     "execution_count": 24,
     "metadata": {},
     "output_type": "execute_result"
    }
   ],
   "source": [
    "dict_from_compr"
   ]
  },
  {
   "cell_type": "code",
   "execution_count": null,
   "id": "83de4c25",
   "metadata": {},
   "outputs": [],
   "source": [
    "dict_from_compr.popitem()"
   ]
  }
 ],
 "metadata": {
  "kernelspec": {
   "display_name": "Python 3 (ipykernel)",
   "language": "python",
   "name": "python3"
  },
  "language_info": {
   "codemirror_mode": {
    "name": "ipython",
    "version": 3
   },
   "file_extension": ".py",
   "mimetype": "text/x-python",
   "name": "python",
   "nbconvert_exporter": "python",
   "pygments_lexer": "ipython3",
   "version": "3.9.13"
  }
 },
 "nbformat": 4,
 "nbformat_minor": 5
}
