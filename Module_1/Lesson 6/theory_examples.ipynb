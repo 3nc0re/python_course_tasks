{
 "cells": [
  {
   "cell_type": "markdown",
   "id": "69665fd3",
   "metadata": {},
   "source": [
    "# 1. List and set comprehensions"
   ]
  },
  {
   "cell_type": "code",
   "execution_count": null,
   "id": "21c54a99",
   "metadata": {},
   "outputs": [],
   "source": [
    "compr_list = [i for i in range(0, 10)]"
   ]
  },
  {
   "cell_type": "code",
   "execution_count": null,
   "id": "d5d853d6",
   "metadata": {},
   "outputs": [],
   "source": [
    "print(compr_list)"
   ]
  },
  {
   "cell_type": "code",
   "execution_count": null,
   "id": "300a7c24",
   "metadata": {},
   "outputs": [],
   "source": [
    "compr_list_str = \"Зродились ми великої години з пожеж війни і полум'я вогнів\""
   ]
  },
  {
   "cell_type": "code",
   "execution_count": null,
   "id": "e315db80",
   "metadata": {
    "scrolled": true
   },
   "outputs": [],
   "source": [
    "[symbol for symbol in compr_list_str]"
   ]
  },
  {
   "cell_type": "code",
   "execution_count": null,
   "id": "ff23a11e",
   "metadata": {},
   "outputs": [],
   "source": [
    "compr_set_1 = {i for i in range(0, 10)}"
   ]
  },
  {
   "cell_type": "code",
   "execution_count": null,
   "id": "2a0734e1",
   "metadata": {},
   "outputs": [],
   "source": [
    "print(compr_set_1)"
   ]
  },
  {
   "cell_type": "code",
   "execution_count": null,
   "id": "c8729c99",
   "metadata": {},
   "outputs": [],
   "source": [
    "compr_set_2 = {[i] for i in range(0, 10)}"
   ]
  },
  {
   "cell_type": "code",
   "execution_count": null,
   "id": "243ec1ba",
   "metadata": {},
   "outputs": [],
   "source": [
    "print(compr_set_2)"
   ]
  },
  {
   "cell_type": "code",
   "execution_count": null,
   "id": "f33f6dd6",
   "metadata": {},
   "outputs": [],
   "source": [
    "compr_set_3 = {(i) for i in range(0, 10)}"
   ]
  },
  {
   "cell_type": "code",
   "execution_count": null,
   "id": "234a8273",
   "metadata": {},
   "outputs": [],
   "source": [
    "print(compr_set_3)"
   ]
  },
  {
   "cell_type": "code",
   "execution_count": null,
   "id": "61e075aa",
   "metadata": {},
   "outputs": [],
   "source": [
    "#Tuple comprehension\n",
    "(i for i in range(0,10))"
   ]
  },
  {
   "cell_type": "code",
   "execution_count": null,
   "id": "5c0bb23a",
   "metadata": {},
   "outputs": [],
   "source": [
    "action_list_compr = [(m, m**2) for m in range(1,101) if m%10 == 0]"
   ]
  },
  {
   "cell_type": "code",
   "execution_count": null,
   "id": "cef144c9",
   "metadata": {},
   "outputs": [],
   "source": [
    "action_list_compr"
   ]
  },
  {
   "cell_type": "markdown",
   "id": "1b9605a1",
   "metadata": {},
   "source": [
    "# 2. Трошки про itertools і zip"
   ]
  },
  {
   "cell_type": "code",
   "execution_count": null,
   "id": "226f2528",
   "metadata": {},
   "outputs": [],
   "source": [
    "import itertools"
   ]
  },
  {
   "cell_type": "code",
   "execution_count": null,
   "id": "d2a41ddd",
   "metadata": {},
   "outputs": [],
   "source": [
    "a = [1,2,3,4,5]\n",
    "b = [6,7,8,9,10]"
   ]
  },
  {
   "cell_type": "code",
   "execution_count": null,
   "id": "c507995d",
   "metadata": {},
   "outputs": [],
   "source": [
    "itertools.product(a, b)"
   ]
  },
  {
   "cell_type": "code",
   "execution_count": null,
   "id": "69978087",
   "metadata": {},
   "outputs": [],
   "source": [
    "list(itertools.product(a, b))"
   ]
  },
  {
   "cell_type": "code",
   "execution_count": null,
   "id": "1f03845b",
   "metadata": {},
   "outputs": [],
   "source": [
    "list(itertools.permutations(a))"
   ]
  },
  {
   "cell_type": "code",
   "execution_count": null,
   "id": "0d43505b",
   "metadata": {},
   "outputs": [],
   "source": [
    "c = [11, 12, 13, 14, 15, 16, 17, 18]"
   ]
  },
  {
   "cell_type": "code",
   "execution_count": null,
   "id": "209d87b3",
   "metadata": {},
   "outputs": [],
   "source": [
    "zip(a, b)"
   ]
  },
  {
   "cell_type": "code",
   "execution_count": null,
   "id": "ba3ca5f2",
   "metadata": {},
   "outputs": [],
   "source": [
    "list(zip(a, b, c))"
   ]
  },
  {
   "cell_type": "code",
   "execution_count": null,
   "id": "68ecba5e",
   "metadata": {},
   "outputs": [],
   "source": [
    "list(itertools.zip_longest(a, a, a, c))"
   ]
  },
  {
   "cell_type": "markdown",
   "id": "1b0b5dc2",
   "metadata": {},
   "source": [
    "# 3. sum() і map()"
   ]
  },
  {
   "cell_type": "code",
   "execution_count": null,
   "id": "b7b791e4",
   "metadata": {},
   "outputs": [],
   "source": [
    "a = [i**3 for i in range(0, 25) if i%3 == 1]"
   ]
  },
  {
   "cell_type": "code",
   "execution_count": null,
   "id": "f6247715",
   "metadata": {},
   "outputs": [],
   "source": [
    "sum(a)"
   ]
  },
  {
   "cell_type": "code",
   "execution_count": null,
   "id": "8216ad5b",
   "metadata": {},
   "outputs": [],
   "source": [
    "from math import sqrt\n",
    "\n",
    "sqrt_list = map(sqrt, a)\n",
    "str_list = map(str, a)"
   ]
  },
  {
   "cell_type": "code",
   "execution_count": null,
   "id": "fbfb01a5",
   "metadata": {},
   "outputs": [],
   "source": [
    "list(sqrt_list)"
   ]
  },
  {
   "cell_type": "code",
   "execution_count": null,
   "id": "32da2928",
   "metadata": {},
   "outputs": [],
   "source": [
    "list(str_list)"
   ]
  },
  {
   "cell_type": "markdown",
   "id": "cc01feaf",
   "metadata": {},
   "source": [
    "# 4. NumPy (прекрасна документація лежить [тут](https://numpy.org/doc/stable/user/absolute_beginners.html))"
   ]
  },
  {
   "cell_type": "code",
   "execution_count": null,
   "id": "f4963513",
   "metadata": {},
   "outputs": [],
   "source": [
    "import numpy as np"
   ]
  },
  {
   "cell_type": "code",
   "execution_count": null,
   "id": "d4e3b2dc",
   "metadata": {},
   "outputs": [],
   "source": [
    "np.arange(6)"
   ]
  },
  {
   "cell_type": "code",
   "execution_count": null,
   "id": "4cce6077",
   "metadata": {},
   "outputs": [],
   "source": [
    "type(np.arange(5))"
   ]
  },
  {
   "cell_type": "code",
   "execution_count": null,
   "id": "c9f42c50",
   "metadata": {},
   "outputs": [],
   "source": [
    "type(np.arange(19)[4])"
   ]
  },
  {
   "cell_type": "code",
   "execution_count": null,
   "id": "8f623c4c",
   "metadata": {},
   "outputs": [],
   "source": [
    "np.array([1, 2, 3])"
   ]
  },
  {
   "cell_type": "code",
   "execution_count": null,
   "id": "5120c507",
   "metadata": {},
   "outputs": [],
   "source": [
    "np.zeros(2)"
   ]
  },
  {
   "cell_type": "code",
   "execution_count": null,
   "id": "d1854a30",
   "metadata": {},
   "outputs": [],
   "source": [
    "type(np.zeros(4)[3])"
   ]
  },
  {
   "cell_type": "code",
   "execution_count": null,
   "id": "d374a1a7",
   "metadata": {},
   "outputs": [],
   "source": [
    "np.ones([10, 10])"
   ]
  },
  {
   "cell_type": "code",
   "execution_count": null,
   "id": "1d7ca093",
   "metadata": {},
   "outputs": [],
   "source": [
    "np.linspace(0, 10, num=100)"
   ]
  },
  {
   "cell_type": "code",
   "execution_count": null,
   "id": "d45f9b08",
   "metadata": {},
   "outputs": [],
   "source": [
    "np.ones([3, 3], dtype=np.int64)"
   ]
  },
  {
   "cell_type": "markdown",
   "id": "dbecfa33",
   "metadata": {},
   "source": [
    "# 5. Трохи про словники"
   ]
  },
  {
   "cell_type": "code",
   "execution_count": null,
   "id": "2f29f3f8",
   "metadata": {},
   "outputs": [],
   "source": [
    "employee_hierarchy = {\n",
    "    \"CEO\":\n",
    "    {\n",
    "        \"CTO\":\n",
    "        {\n",
    "            \"VP of Engineering\":\n",
    "            {\n",
    "                \"Project Manager 1\":\n",
    "                [\n",
    "                    \"Employee 1\",\n",
    "                    \"Employee 2\",\n",
    "                    \"Employee 3\"\n",
    "                ],\n",
    "                \"Project Manager 2\":\n",
    "                [\n",
    "                    \"Employee 1\",\n",
    "                    \"Employee 2\",\n",
    "                    \"Employee 3\"\n",
    "                ]\n",
    "\n",
    "            },\n",
    "            \"VP of R&D\":\n",
    "            {\n",
    "                \"Research Manager 1\":\n",
    "                [\n",
    "                    \"Employee 1\",\n",
    "                    \"Employee 2\",\n",
    "                    \"Employee 3\"\n",
    "                ],\n",
    "                \"Research Manager 2\":\n",
    "                [\n",
    "                    \"Employee 1\",\n",
    "                    \"Employee 2\",\n",
    "                    \"Employee 3\"\n",
    "                ]\n",
    "\n",
    "            },\n",
    "        },\n",
    "        \"CMO\":\n",
    "        {\n",
    "            \"Brand Manager\":\n",
    "            {\n",
    "                [\"SMM manager\", \"BTL manager\", \"ATL manager\"]\n",
    "            }\n",
    "        }\n",
    "    }\n",
    "}"
   ]
  },
  {
   "cell_type": "code",
   "execution_count": null,
   "id": "59874c15",
   "metadata": {},
   "outputs": [],
   "source": [
    "movies_dataset = {\n",
    "    \"Avatar\": 2047674,\n",
    "    \"Citizen Kane\": 2858859,\n",
    "}"
   ]
  },
  {
   "cell_type": "code",
   "execution_count": null,
   "id": "1ef6989b",
   "metadata": {},
   "outputs": [],
   "source": [
    "another_movie_dataset = [\n",
    "    {'id': 645, 'name': 'James Bond Collection', 'poster_path': '/HORpg5CSkmeQlAolx3bKMrKgfi.jpg',\n",
    "     'backdrop_path': '/6VcVl48kNKvdXOZfJPdarlUGOsk.jpg', \"rank\": 8},\n",
    "    {'id': 117693, 'name': 'Balto Collection', 'poster_path': '/w0ZgH6Lgxt2bQYnf1ss74UvYftm.jpg',\n",
    "     'backdrop_path': '/9VM5LiJV0bGb1st1KyHA3cVnO2G.jpg', \"rank\": 7},\n",
    "    {'id': 136214, 'name': 'Pocahontas Collection', 'poster_path': '/s4RkDe4AjwyrlltdF6Ui7INlME6.jpg',\n",
    "     'backdrop_path': '/qqeOxNmtAW7WXdbrmQftgluvve7.jpg', \"rank\": 10}\n",
    "]\n"
   ]
  },
  {
   "cell_type": "code",
   "execution_count": null,
   "id": "938bdaf4",
   "metadata": {},
   "outputs": [],
   "source": [
    "#Here goes code for average rank of the film in the last dataset"
   ]
  },
  {
   "cell_type": "code",
   "execution_count": null,
   "id": "4936778f",
   "metadata": {},
   "outputs": [],
   "source": [
    "nested_dict = {\n",
    "    \"key\": \"value\",\n",
    "    \"another_key\":\n",
    "    {\n",
    "        \"yet_another_key\": \"yet_another_value\",\n",
    "        \"and_yet_another_key\": \n",
    "        [\n",
    "            {\n",
    "                \"i_am_tired_of_this_keys\": \"i_am_tired_of_this_value\"\n",
    "            },\n",
    "            {\n",
    "                \"hey!\": \"don't soomoovat'!\"\n",
    "            },\n",
    "            \"just some random string\".\n",
    "            [\n",
    "                \"yes\",\n",
    "                \"i\", \n",
    "                \"created\", \n",
    "                \"nested\", \n",
    "                \"list\", \n",
    "                \"in\", \n",
    "                \"nested\", \n",
    "                \"dict\", \n",
    "                {\n",
    "                    \"with a dict\": \"in here!\"\n",
    "                }\n",
    "            ]\n",
    "        ]\n",
    "    }\n",
    "}"
   ]
  },
  {
   "cell_type": "code",
   "execution_count": null,
   "id": "828b6f0d",
   "metadata": {},
   "outputs": [],
   "source": [
    "d = {'a': 10, 'b': 20, 'c': 30}"
   ]
  },
  {
   "cell_type": "code",
   "execution_count": null,
   "id": "72e3a930",
   "metadata": {},
   "outputs": [],
   "source": [
    "d.clear()"
   ]
  },
  {
   "cell_type": "code",
   "execution_count": null,
   "id": "110b4a02",
   "metadata": {},
   "outputs": [],
   "source": [
    "d"
   ]
  },
  {
   "cell_type": "code",
   "execution_count": null,
   "id": "c310d803",
   "metadata": {},
   "outputs": [],
   "source": [
    "a = {1: 2}"
   ]
  },
  {
   "cell_type": "code",
   "execution_count": null,
   "id": "431e8fbe",
   "metadata": {},
   "outputs": [],
   "source": [
    "b = (a: 2)"
   ]
  },
  {
   "cell_type": "code",
   "execution_count": null,
   "id": "b09f076a",
   "metadata": {},
   "outputs": [],
   "source": [
    "a.get(6, \"Default value\")"
   ]
  },
  {
   "cell_type": "code",
   "execution_count": null,
   "id": "165cd2c1",
   "metadata": {},
   "outputs": [],
   "source": [
    "dict_from_compr = {key: key**2 for key in range(10, 1, -1)}"
   ]
  },
  {
   "cell_type": "code",
   "execution_count": null,
   "id": "84219528",
   "metadata": {},
   "outputs": [],
   "source": [
    "dict_from_compr.keys()"
   ]
  },
  {
   "cell_type": "code",
   "execution_count": null,
   "id": "d6064e53",
   "metadata": {},
   "outputs": [],
   "source": [
    "dict_from_compr.values()"
   ]
  },
  {
   "cell_type": "code",
   "execution_count": null,
   "id": "27105889",
   "metadata": {},
   "outputs": [],
   "source": [
    "dict_from_compr.items()"
   ]
  },
  {
   "cell_type": "code",
   "execution_count": null,
   "id": "08cdf33c",
   "metadata": {},
   "outputs": [],
   "source": [
    "dict_from_compr.pop(0)"
   ]
  },
  {
   "cell_type": "code",
   "execution_count": null,
   "id": "02c66ae5",
   "metadata": {},
   "outputs": [],
   "source": [
    "dict_from_compr.pop(-1, \"Default value\")"
   ]
  },
  {
   "cell_type": "code",
   "execution_count": null,
   "id": "cf0aab95",
   "metadata": {},
   "outputs": [],
   "source": [
    "dict_from_compr"
   ]
  },
  {
   "cell_type": "code",
   "execution_count": null,
   "id": "3efdd89c",
   "metadata": {},
   "outputs": [],
   "source": [
    "dict_from_compr.popitem()"
   ]
  },
  {
   "cell_type": "code",
   "execution_count": null,
   "id": "d47bcd40",
   "metadata": {},
   "outputs": [],
   "source": [
    "DEFAULT_VALUE_ON_INCORRECT_OP = \"Введи іншу операцію! Цей символ некорректний!\"\n",
    "\n",
    "a = float(input(\"Введи перший операнд \"))\n",
    "b = float(input(\"Введи другий операнд \"))\n",
    "\n",
    "command = input(\"Введи дію \")\n",
    "\n",
    "operations_dict = {\n",
    "    \"+\": a + b,\n",
    "    \"-\": a - b,\n",
    "    \"*\": a*b,\n",
    "    \"/\": a/b if b !=0 else \"Division by zero is prohibited\"\n",
    "}\n",
    "\n",
    "print(operations_dict.get(command, DEFAULT_VALUE_ON_INCORRECT_OP))"
   ]
  },
  {
   "cell_type": "code",
   "execution_count": null,
   "id": "d3bf7cd0",
   "metadata": {},
   "outputs": [],
   "source": [
    "print(\"Привіт! Ця проста програма приймає кордони значень, крок і команду, \\\n",
    "      що описує список, який треба згенерувати\")\n",
    "\n",
    "lower_threshold = int(input(\"Введи нижнє обмеження для програми\"))\n",
    "upper_threshold = int(input(\"Введи верхнє обмеження для програми\"))\n",
    "step = int(input(\"Введи крок, з яким ми будемо ітеруватися\"))\n",
    "\n",
    "command = input(\"Введи команду. Доступні команди: make_squares, make_cubes\")\n",
    "\n",
    "is_odd = input(\"Введи команду для парності числа. Введи odd для підрахунку списку для непарних\\\n",
    "чисел і even для парних\")\n",
    "\n",
    "commands_to_actions_mapping = {\n",
    "    \"make_squares\": {\n",
    "        \"even\": (i**2 for i in range(lower_threshold, upper_threshold, step) if i%2 == 0),\n",
    "        \"odd\":  (i**2 for i in range(lower_threshold, upper_threshold, step) if i%2 == 1),\n",
    "    },\n",
    "    \"make_cubes\": {\n",
    "        \"even\": (i**3 for i in range(lower_threshold, upper_threshold, step) if i%2 == 0),\n",
    "        \"odd\":  (i**3 for i in range(lower_threshold, upper_threshold, step) if i%2 == 1),\n",
    "    }\n",
    "}\n",
    "\n",
    "print(list(commands_to_actions_mapping[command][is_odd]))"
   ]
  }
 ],
 "metadata": {
  "kernelspec": {
   "display_name": "Python 3 (ipykernel)",
   "language": "python",
   "name": "python3"
  },
  "language_info": {
   "codemirror_mode": {
    "name": "ipython",
    "version": 3
   },
   "file_extension": ".py",
   "mimetype": "text/x-python",
   "name": "python",
   "nbconvert_exporter": "python",
   "pygments_lexer": "ipython3",
   "version": "3.9.13"
  }
 },
 "nbformat": 4,
 "nbformat_minor": 5
}
