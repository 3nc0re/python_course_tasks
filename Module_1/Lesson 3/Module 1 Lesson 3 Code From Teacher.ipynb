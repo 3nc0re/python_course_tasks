{
 "cells": [
  {
   "cell_type": "markdown",
   "id": "dbef07c6",
   "metadata": {},
   "source": [
    "### Задача 1;"
   ]
  },
  {
   "cell_type": "code",
   "execution_count": 2,
   "id": "ef04fbcd",
   "metadata": {},
   "outputs": [],
   "source": [
    "input_str = \"\"\"Hello! My name is Ілля!\n",
    "My email is illya.khoroshykh@gmail.com. I have 10$ in my pocket. \n",
    "& wut 'bout u?'\"\"\""
   ]
  },
  {
   "cell_type": "code",
   "execution_count": 8,
   "id": "bb27b8a2",
   "metadata": {},
   "outputs": [
    {
     "name": "stdout",
     "output_type": "stream",
     "text": [
      "hello! my name is Ілля!\n",
      "my email is illya.khoroshykh@gmail.com. i have 10$ in my pocket. \n",
      "& wut 'bout u?'\n",
      "HELLO! MY NAME IS Ілля!\n",
      "MY EMAIL IS ILLYA.KHOROSHYKH@GMAIL.COM. I HAVE 10$ IN MY POCKET. \n",
      "& WUT 'BOUT U?'\n",
      "Hello! My name is Ілля!My email is illya.khoroshykh@gmail.com. I have 10$ in my pocket. & wut 'bout u?'\n"
     ]
    }
   ],
   "source": [
    "uppercase_string = \"\"\n",
    "lowercase_string = \"\"\n",
    "new_line_removed_string = \"\"\n",
    "\n",
    "for char in input_str:\n",
    "    ord_char = ord(char)\n",
    "    if 65 <= ord_char <= 90:\n",
    "        uppercase_string += char\n",
    "        lowercase_string += chr(ord_char + 32)\n",
    "        new_line_removed_string += char\n",
    "    elif 97 <= ord_char <= 122:\n",
    "        uppercase_string += chr(ord_char - 32)\n",
    "        lowercase_string += char\n",
    "        new_line_removed_string += char\n",
    "    elif ord_char == 10:\n",
    "        uppercase_string += char\n",
    "        lowercase_string += char\n",
    "    else:\n",
    "        uppercase_string += char\n",
    "        lowercase_string += char\n",
    "        new_line_removed_string += char\n",
    "        \n",
    "print(lowercase_string)\n",
    "print(uppercase_string)\n",
    "print(new_line_removed_string)"
   ]
  },
  {
   "cell_type": "markdown",
   "id": "f21acbb7",
   "metadata": {},
   "source": [
    "### Задача 2:"
   ]
  },
  {
   "cell_type": "code",
   "execution_count": null,
   "id": "490139d8",
   "metadata": {},
   "outputs": [],
   "source": [
    "NON_VALID_STRING: str = \"Пароль не відповідає критеріям \\\n",
    "(не менше ніж 8 символів, наявність великих, маленьких літер, спецсимволів і цифр).\\n\\\n",
    "Будь ласка, введіть пароль заново.\"\n",
    "\n",
    "while True:\n",
    "    password_1: str = input(\"Введіть пароль: \")\n",
    "    password_2: str = input(\"Введіть пароль ще раз: \")\n",
    "    if password_1 != password_2:\n",
    "        print(\"Паролі не співпадають! Повторіть введення!\")\n",
    "        continue\n",
    "    capital_count: int = 0\n",
    "    small_count: int = 0\n",
    "    numeric_count: int = 0\n",
    "    special_symb_count: int = 0\n",
    "    for letter in password_1:\n",
    "        if letter.islower():\n",
    "            small_count += 1\n",
    "        if letter.isupper():\n",
    "            capital_count += 1\n",
    "        if letter.isnumeric():\n",
    "            numeric_count += 1\n",
    "        if not (letter.isalpha() or letter.isnumeric()):\n",
    "            special_symb_count += 1\n",
    "    is_small_and_capital: bool = capital_count > 0 and small_count > 0\n",
    "    is_numeric: bool = numeric_count > 0\n",
    "    is_special_symbs: bool = special_symb_count > 0\n",
    "    is_long_enough: bool = len(password_1) > 8\n",
    "    \n",
    "    print(is_small_and_capital, is_numeric, is_special_symbs, is_long_enough)\n",
    "\n",
    "    if is_small_and_capital and is_numeric and is_special_symbs and is_long_enough:\n",
    "        print(\"Пароль валідний! Дякую!\")\n",
    "        break\n",
    "    else:\n",
    "        print(NON_VALID_STRING)"
   ]
  },
  {
   "cell_type": "markdown",
   "id": "36c5a34b",
   "metadata": {},
   "source": [
    "### Задача 3:"
   ]
  },
  {
   "cell_type": "code",
   "execution_count": 4,
   "id": "03e2b64a",
   "metadata": {},
   "outputs": [
    {
     "name": "stdout",
     "output_type": "stream",
     "text": [
      "Привіт і вітаю в імпровізованому калькуляторі! \n",
      "Введи calculate для того щоб зробити просту арифметичну операцію і end щоб завершити програму!\n",
      "Введи команду: end\n",
      "Отримано команду end, завершую роботу!\n"
     ]
    }
   ],
   "source": [
    "GREETING_TEXT: str = \"\"\"Привіт і вітаю в імпровізованому калькуляторі! \n",
    "Введи calculate для того щоб зробити просту арифметичну операцію і end щоб завершити програму!\"\"\"\n",
    "\n",
    "    \n",
    "CALCULATE_TEXT: str = \"\"\"Обрано команду calculate!\n",
    "Ти можеш скористатися однією з чотирьох арифметичних операцій: +, -, /, *.\n",
    "Програма приймає на вхід виключно цілі числа.\"\"\"\n",
    "    \n",
    "print(GREETING_TEXT)\n",
    "\n",
    "while True:\n",
    "    command: str = input(\"Введи команду: \")\n",
    "    if command == \"calculate\":\n",
    "        print(CALCULATE_TEXT)\n",
    "        while True:\n",
    "            first_operand_str: str = input(\"Введи перший операнд: \")\n",
    "            if not first_operand_str.isnumeric():\n",
    "                print(\"Перший операнд не валідний! Введи валідне ціле число!\")\n",
    "                continue\n",
    "            second_operand_str: str = input(\"Введи другий операнд: \")\n",
    "            if not second_operand_str.isnumeric():\n",
    "                print(\"Другий операнд не валідний! Введи валідне ціле число!\")\n",
    "                continue\n",
    "            operator_str: str = input(\"Введи оператор: \")\n",
    "            if operator_str not in \"+-/*\" or len(operator_str) > 1:\n",
    "                print(\"Оператор не валідний! Введи один з дозволених операторів (+, -, /, *)\")\n",
    "                continue\n",
    "            break\n",
    "        first_operand: int = int(first_operand_str)\n",
    "        second_operand: int = int(second_operand_str)\n",
    "        if operator_str == \"+\":\n",
    "            result = first_operand + second_operand\n",
    "        elif operator_str == \"-\":\n",
    "            result = first_operand - second_operand\n",
    "        elif operator_str == \"*\":\n",
    "            result = first_operand * second_operand\n",
    "        elif operator_str == \"/\":\n",
    "            result = first_operand * second_operand\n",
    "        print(f\"Результат виконування операції: {result}\")\n",
    "        print(\"Дякую за довіру! Переводжу в меню вибору команди.\")\n",
    "    elif command == \"end\":\n",
    "        print(\"Отримано команду end, завершую роботу!\")\n",
    "        break\n",
    "    else:\n",
    "        print(\"Отримано помилкову команду! Введи валідну команду (calculate або end)!\")"
   ]
  }
 ],
 "metadata": {
  "kernelspec": {
   "display_name": "Python 3 (ipykernel)",
   "language": "python",
   "name": "python3"
  },
  "language_info": {
   "codemirror_mode": {
    "name": "ipython",
    "version": 3
   },
   "file_extension": ".py",
   "mimetype": "text/x-python",
   "name": "python",
   "nbconvert_exporter": "python",
   "pygments_lexer": "ipython3",
   "version": "3.10.9"
  }
 },
 "nbformat": 4,
 "nbformat_minor": 5
}
