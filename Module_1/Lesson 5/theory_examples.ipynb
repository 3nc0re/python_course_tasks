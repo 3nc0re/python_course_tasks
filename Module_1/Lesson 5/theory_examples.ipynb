{
 "cells": [
  {
   "cell_type": "markdown",
   "id": "54f33d14",
   "metadata": {},
   "source": [
    "# 1. Змінювані та незмінювані об'єкти"
   ]
  },
  {
   "cell_type": "code",
   "execution_count": null,
   "id": "7f64d334",
   "metadata": {},
   "outputs": [],
   "source": [
    "from collections import namedtuple"
   ]
  },
  {
   "cell_type": "code",
   "execution_count": null,
   "id": "d0e0dba8",
   "metadata": {},
   "outputs": [],
   "source": [
    "ex_list = [1, 2, 3, 4, 5]\n",
    "ex_tuple = (1, 2, 3, 4, 5)\n",
    "ex_set = {1, 2, 3, 4, 5}\n",
    "ex_frozenset = frozenset(ex_set)\n",
    "\n",
    "named_tuple_example_type = namedtuple(typename=\"example_col\", field_names=[\"list\", \"tuple\", \"set\", \"frozenset\"])\n",
    "\n",
    "named_tuple = named_tuple_example_type(list=ex_list,  set=ex_set, tuple=ex_tuple, frozenset=ex_frozenset)"
   ]
  },
  {
   "cell_type": "code",
   "execution_count": null,
   "id": "cb6bcf67",
   "metadata": {},
   "outputs": [],
   "source": [
    "for item in named_tuple:\n",
    "    if item.__hash__ is not None:\n",
    "        print(\"This collection type is immutable, so it's hashable. See this particular objects hash below.\")\n",
    "        print(item.__hash__())\n",
    "    else:\n",
    "        print(\"This collection type is mutable, so it's unhashable\")"
   ]
  },
  {
   "cell_type": "markdown",
   "id": "1bac457c",
   "metadata": {},
   "source": [
    "## 1.1. Різниця між list() і []:"
   ]
  },
  {
   "cell_type": "code",
   "execution_count": null,
   "id": "dc138e6c",
   "metadata": {},
   "outputs": [],
   "source": [
    "import dis"
   ]
  },
  {
   "cell_type": "code",
   "execution_count": null,
   "id": "9edb3b77",
   "metadata": {},
   "outputs": [],
   "source": [
    "print(dis.dis(\"[]\"))\n"
   ]
  },
  {
   "cell_type": "code",
   "execution_count": null,
   "id": "9eb48f91",
   "metadata": {},
   "outputs": [],
   "source": [
    "print(dis.dis(\"list()\"))"
   ]
  },
  {
   "cell_type": "code",
   "execution_count": null,
   "id": "95ddda6b",
   "metadata": {},
   "outputs": [],
   "source": [
    "print(\"This is an example of list creation via []\")\n",
    "for i in range(0, 3):\n",
    "    print(id([]))"
   ]
  },
  {
   "cell_type": "code",
   "execution_count": null,
   "id": "6bf7f7e7",
   "metadata": {},
   "outputs": [],
   "source": [
    "print(\"This is an example of list creation via list()\")\n",
    "for i in range(0, 3):\n",
    "    print(id(list()))"
   ]
  },
  {
   "cell_type": "markdown",
   "id": "7d37e303",
   "metadata": {},
   "source": [
    "# 2. Додатково про множини:"
   ]
  },
  {
   "cell_type": "markdown",
   "id": "e386d50a",
   "metadata": {},
   "source": [
    "## 2.1. Difference between {1,2}, set() and {}:"
   ]
  },
  {
   "cell_type": "code",
   "execution_count": null,
   "id": "fc24ad75",
   "metadata": {},
   "outputs": [],
   "source": [
    "test_set_1 = set()\n",
    "print(type(test_set_1))"
   ]
  },
  {
   "cell_type": "code",
   "execution_count": null,
   "id": "e66beea1",
   "metadata": {},
   "outputs": [],
   "source": [
    "test_set_2 = {1}\n",
    "print(type(test_set_2))"
   ]
  },
  {
   "cell_type": "code",
   "execution_count": null,
   "id": "5c6a4abf",
   "metadata": {},
   "outputs": [],
   "source": [
    "test_set_3 = {}\n",
    "print(type(test_set_3))"
   ]
  },
  {
   "cell_type": "markdown",
   "id": "768bd373",
   "metadata": {},
   "source": [
    "## 2.2. Операції з множинами (гарна діаграма [тут](https://static.javatpoint.com/blog/images/symmetric-difference-between-two-sets2.png))"
   ]
  },
  {
   "cell_type": "code",
   "execution_count": null,
   "id": "e4215f8d",
   "metadata": {},
   "outputs": [],
   "source": [
    "a = {1, 2, 3, 4}\n",
    "b = {2, 3, 5}"
   ]
  },
  {
   "cell_type": "code",
   "execution_count": null,
   "id": "abaf31c7",
   "metadata": {},
   "outputs": [],
   "source": [
    "a.intersection(b)"
   ]
  },
  {
   "cell_type": "code",
   "execution_count": null,
   "id": "ef382da9",
   "metadata": {},
   "outputs": [],
   "source": [
    "a.union(b)"
   ]
  },
  {
   "cell_type": "code",
   "execution_count": null,
   "id": "398b3663",
   "metadata": {},
   "outputs": [],
   "source": [
    "a.symmetric_difference(b)"
   ]
  },
  {
   "cell_type": "markdown",
   "id": "481f02c9",
   "metadata": {},
   "source": [
    "## 2.3. Некоммутативність операції difference()"
   ]
  },
  {
   "cell_type": "code",
   "execution_count": null,
   "id": "ff4c9ced",
   "metadata": {},
   "outputs": [],
   "source": [
    "a - b"
   ]
  },
  {
   "cell_type": "code",
   "execution_count": null,
   "id": "792e3173",
   "metadata": {},
   "outputs": [],
   "source": [
    "b - a"
   ]
  },
  {
   "cell_type": "code",
   "execution_count": null,
   "id": "3d95a040",
   "metadata": {},
   "outputs": [],
   "source": [
    "a.difference(b)"
   ]
  },
  {
   "cell_type": "code",
   "execution_count": null,
   "id": "fe98cbc6",
   "metadata": {},
   "outputs": [],
   "source": [
    "b.difference(a)"
   ]
  },
  {
   "cell_type": "markdown",
   "id": "376a7d40",
   "metadata": {},
   "source": [
    "# 3. List and set comprehensions"
   ]
  },
  {
   "cell_type": "code",
   "execution_count": null,
   "id": "957711b7",
   "metadata": {},
   "outputs": [],
   "source": [
    "compr_list = [i for i in range(0, 10)]"
   ]
  },
  {
   "cell_type": "code",
   "execution_count": null,
   "id": "7142a4ea",
   "metadata": {},
   "outputs": [],
   "source": [
    "print(compr_list)"
   ]
  },
  {
   "cell_type": "code",
   "execution_count": null,
   "id": "47b80f87",
   "metadata": {},
   "outputs": [],
   "source": [
    "compr_list_str = \"Зродились ми великої години з пожеж війни і полум'я вогнів\""
   ]
  },
  {
   "cell_type": "code",
   "execution_count": null,
   "id": "7a988770",
   "metadata": {
    "scrolled": true
   },
   "outputs": [],
   "source": [
    "[symbol for symbol in compr_list_str]"
   ]
  },
  {
   "cell_type": "code",
   "execution_count": null,
   "id": "13aae987",
   "metadata": {},
   "outputs": [],
   "source": [
    "compr_set_1 = {i for i in range(0, 10)}"
   ]
  },
  {
   "cell_type": "code",
   "execution_count": null,
   "id": "6880d9e7",
   "metadata": {},
   "outputs": [],
   "source": [
    "print(compr_set_1)"
   ]
  },
  {
   "cell_type": "code",
   "execution_count": null,
   "id": "85dc870b",
   "metadata": {},
   "outputs": [],
   "source": [
    "compr_set_2 = {[i] for i in range(0, 10)}"
   ]
  },
  {
   "cell_type": "code",
   "execution_count": null,
   "id": "6ee8dec5",
   "metadata": {},
   "outputs": [],
   "source": [
    "print(compr_set_2)"
   ]
  },
  {
   "cell_type": "code",
   "execution_count": null,
   "id": "da388a6d",
   "metadata": {},
   "outputs": [],
   "source": [
    "compr_set_3 = {(i) for i in range(0, 10)}"
   ]
  },
  {
   "cell_type": "code",
   "execution_count": null,
   "id": "ec535f97",
   "metadata": {},
   "outputs": [],
   "source": [
    "print(compr_set_3)"
   ]
  },
  {
   "cell_type": "code",
   "execution_count": null,
   "id": "52c17e49",
   "metadata": {},
   "outputs": [],
   "source": [
    "#Tuple comprehension\n",
    "(i for i in range(0,10))"
   ]
  },
  {
   "cell_type": "code",
   "execution_count": null,
   "id": "d42c0fa7",
   "metadata": {},
   "outputs": [],
   "source": [
    "action_list_compr = [(m, m**2) for m in range(1,101) if m%10 == 0]"
   ]
  },
  {
   "cell_type": "code",
   "execution_count": null,
   "id": "4ba648ed",
   "metadata": {},
   "outputs": [],
   "source": [
    "action_list_compr"
   ]
  },
  {
   "cell_type": "markdown",
   "id": "89f321ac",
   "metadata": {},
   "source": [
    "# 4. range(0,3) vs [0,1,2]"
   ]
  },
  {
   "cell_type": "code",
   "execution_count": null,
   "id": "82cffb00",
   "metadata": {},
   "outputs": [],
   "source": [
    "import sys"
   ]
  },
  {
   "cell_type": "code",
   "execution_count": null,
   "id": "4c7f5bd2",
   "metadata": {},
   "outputs": [],
   "source": [
    "sys.getsizeof(range(0,10000000))"
   ]
  },
  {
   "cell_type": "code",
   "execution_count": null,
   "id": "432ac0a0",
   "metadata": {},
   "outputs": [],
   "source": [
    "sys.getsizeof([i for i in range(0, 10000000)])"
   ]
  },
  {
   "cell_type": "markdown",
   "id": "26e5b0ad",
   "metadata": {},
   "source": [
    "# 5. Трошки про itertools"
   ]
  },
  {
   "cell_type": "code",
   "execution_count": null,
   "id": "e041b1b5",
   "metadata": {},
   "outputs": [],
   "source": [
    "import itertools"
   ]
  },
  {
   "cell_type": "code",
   "execution_count": null,
   "id": "76bf54cd",
   "metadata": {},
   "outputs": [],
   "source": [
    "a = [1,2,3,4,5]\n",
    "b = [6,7,8,9,10]"
   ]
  },
  {
   "cell_type": "code",
   "execution_count": null,
   "id": "1899d4a1",
   "metadata": {},
   "outputs": [],
   "source": [
    "itertools.product(a, b)"
   ]
  },
  {
   "cell_type": "code",
   "execution_count": null,
   "id": "7d618c56",
   "metadata": {},
   "outputs": [],
   "source": [
    "list(itertools.product(a, b))"
   ]
  },
  {
   "cell_type": "code",
   "execution_count": null,
   "id": "1fd643c7",
   "metadata": {},
   "outputs": [],
   "source": [
    "list(itertools.permutations(a))"
   ]
  },
  {
   "cell_type": "markdown",
   "id": "5158fe0e",
   "metadata": {},
   "source": [
    "# 5. sum() і map()"
   ]
  },
  {
   "cell_type": "code",
   "execution_count": null,
   "id": "53316cb8",
   "metadata": {},
   "outputs": [],
   "source": [
    "a = [i**3 for i in range(0, 25) if i%3 == 1]"
   ]
  },
  {
   "cell_type": "code",
   "execution_count": null,
   "id": "d68b490d",
   "metadata": {},
   "outputs": [],
   "source": [
    "sum(a)"
   ]
  },
  {
   "cell_type": "code",
   "execution_count": null,
   "id": "10d5b010",
   "metadata": {},
   "outputs": [],
   "source": [
    "from math import sqrt\n",
    "\n",
    "sqrt_list = map(sqrt, a)\n",
    "str_list = map(str, a)"
   ]
  },
  {
   "cell_type": "code",
   "execution_count": null,
   "id": "0214adda",
   "metadata": {},
   "outputs": [],
   "source": [
    "list(sqrt_list)"
   ]
  },
  {
   "cell_type": "code",
   "execution_count": null,
   "id": "4357159e",
   "metadata": {},
   "outputs": [],
   "source": [
    "list(str_list)"
   ]
  },
  {
   "cell_type": "markdown",
   "id": "ce4e5549",
   "metadata": {},
   "source": [
    "# 6. NumPy (прекрасна документація лежить [тут](https://numpy.org/doc/stable/user/absolute_beginners.html))"
   ]
  },
  {
   "cell_type": "code",
   "execution_count": null,
   "id": "ebf7c369",
   "metadata": {},
   "outputs": [],
   "source": [
    "import numpy as np"
   ]
  },
  {
   "cell_type": "code",
   "execution_count": null,
   "id": "57f75ee6",
   "metadata": {},
   "outputs": [],
   "source": [
    "np.arange(6)"
   ]
  },
  {
   "cell_type": "code",
   "execution_count": null,
   "id": "e43487bf",
   "metadata": {},
   "outputs": [],
   "source": [
    "type(np.arange(5))"
   ]
  },
  {
   "cell_type": "code",
   "execution_count": null,
   "id": "ee5a51a6",
   "metadata": {},
   "outputs": [],
   "source": [
    "type(np.arange(19)[4])"
   ]
  },
  {
   "cell_type": "code",
   "execution_count": null,
   "id": "e7646fa6",
   "metadata": {},
   "outputs": [],
   "source": [
    "np.array([1, 2, 3])"
   ]
  },
  {
   "cell_type": "code",
   "execution_count": null,
   "id": "073a8dd0",
   "metadata": {},
   "outputs": [],
   "source": [
    "np.zeros(2)"
   ]
  },
  {
   "cell_type": "code",
   "execution_count": null,
   "id": "b54b21dd",
   "metadata": {},
   "outputs": [],
   "source": [
    "type(np.zeros(4)[3])"
   ]
  },
  {
   "cell_type": "code",
   "execution_count": null,
   "id": "bf0661e2",
   "metadata": {},
   "outputs": [],
   "source": [
    "np.ones([10, 10])"
   ]
  },
  {
   "cell_type": "code",
   "execution_count": null,
   "id": "ef451a2f",
   "metadata": {},
   "outputs": [],
   "source": [
    "np.linspace(0, 10, num=100)"
   ]
  },
  {
   "cell_type": "code",
   "execution_count": null,
   "id": "e436ae50",
   "metadata": {},
   "outputs": [],
   "source": [
    "np.ones([3, 3], dtype=np.int64)"
   ]
  }
 ],
 "metadata": {
  "kernelspec": {
   "display_name": "Python 3.10",
   "language": "python",
   "name": "python310"
  },
  "language_info": {
   "codemirror_mode": {
    "name": "ipython",
    "version": 3
   },
   "file_extension": ".py",
   "mimetype": "text/x-python",
   "name": "python",
   "nbconvert_exporter": "python",
   "pygments_lexer": "ipython3",
   "version": "3.10.9"
  }
 },
 "nbformat": 4,
 "nbformat_minor": 5
}
