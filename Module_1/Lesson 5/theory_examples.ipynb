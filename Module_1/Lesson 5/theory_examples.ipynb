{
 "cells": [
  {
   "cell_type": "markdown",
   "id": "df2d3750",
   "metadata": {},
   "source": [
    "# 1. Змінювані та незмінювані об'єкти"
   ]
  },
  {
   "cell_type": "code",
   "execution_count": null,
   "id": "c97dd4af",
   "metadata": {},
   "outputs": [],
   "source": [
    "from collections import namedtuple"
   ]
  },
  {
   "cell_type": "code",
   "execution_count": null,
   "id": "940f5884",
   "metadata": {},
   "outputs": [],
   "source": [
    "ex_list = [1, 2, 3, 4, 5]\n",
    "ex_tuple = (1, 2, 3, 4, 5)\n",
    "ex_set = {1, 2, 3, 4, 5}\n",
    "ex_frozenset = frozenset(ex_set)\n",
    "\n",
    "named_tuple_example_type = namedtuple(typename=\"example_col\", field_names=[\"list\", \"tuple\", \"set\", \"frozenset\"])\n",
    "\n",
    "named_tuple = named_tuple_example_type(list=ex_list,  set=ex_set, tuple=ex_tuple, frozenset=ex_frozenset)"
   ]
  },
  {
   "cell_type": "code",
   "execution_count": null,
   "id": "824b4c52",
   "metadata": {},
   "outputs": [],
   "source": [
    "for item in named_tuple:\n",
    "    if item.__hash__ is not None:\n",
    "        print(\"This collection type is immutable, so it's hashable. See this particular objects hash below.\")\n",
    "        print(item.__hash__())\n",
    "    else:\n",
    "        print(\"This collection type is mutable, so it's unhashable\")"
   ]
  },
  {
   "cell_type": "markdown",
   "id": "10481fc2",
   "metadata": {},
   "source": [
    "## 1.1. Різниця між list() і []:"
   ]
  },
  {
   "cell_type": "code",
   "execution_count": null,
   "id": "5fd5dfa2",
   "metadata": {},
   "outputs": [],
   "source": [
    "import dis"
   ]
  },
  {
   "cell_type": "code",
   "execution_count": null,
   "id": "abe212de",
   "metadata": {},
   "outputs": [],
   "source": [
    "print(dis.dis(\"[]\"))\n"
   ]
  },
  {
   "cell_type": "code",
   "execution_count": null,
   "id": "27329b3d",
   "metadata": {},
   "outputs": [],
   "source": [
    "print(dis.dis(\"list()\"))"
   ]
  },
  {
   "cell_type": "code",
   "execution_count": null,
   "id": "93e01a7a",
   "metadata": {},
   "outputs": [],
   "source": [
    "print(\"This is an example of list creation via []\")\n",
    "for i in range(0, 3):\n",
    "    print(id([]))"
   ]
  },
  {
   "cell_type": "code",
   "execution_count": null,
   "id": "e6362bf7",
   "metadata": {},
   "outputs": [],
   "source": [
    "print(\"This is an example of list creation via list()\")\n",
    "for i in range(0, 3):\n",
    "    print(id(list()))"
   ]
  },
  {
   "cell_type": "markdown",
   "id": "b31e5078",
   "metadata": {},
   "source": [
    "# 2. Додатково про множини:"
   ]
  },
  {
   "cell_type": "markdown",
   "id": "348a7ed9",
   "metadata": {},
   "source": [
    "## 2.1. Difference between {1,2}, set() and {}:"
   ]
  },
  {
   "cell_type": "code",
   "execution_count": null,
   "id": "445afc94",
   "metadata": {},
   "outputs": [],
   "source": [
    "test_set_1 = set()\n",
    "print(type(test_set_1))"
   ]
  },
  {
   "cell_type": "code",
   "execution_count": null,
   "id": "686b550a",
   "metadata": {},
   "outputs": [],
   "source": [
    "test_set_2 = {1}\n",
    "print(type(test_set_2))"
   ]
  },
  {
   "cell_type": "code",
   "execution_count": null,
   "id": "c5a70822",
   "metadata": {},
   "outputs": [],
   "source": [
    "test_set_3 = {}\n",
    "print(type(test_set_3))"
   ]
  },
  {
   "cell_type": "markdown",
   "id": "efc58abd",
   "metadata": {},
   "source": [
    "## 2.2. Операції з множинами (гарна діаграма [тут](https://static.javatpoint.com/blog/images/symmetric-difference-between-two-sets2.png))"
   ]
  },
  {
   "cell_type": "code",
   "execution_count": null,
   "id": "68e3d8f2",
   "metadata": {},
   "outputs": [],
   "source": [
    "a = {1, 2, 3, 4}\n",
    "b = {2, 3, 5}"
   ]
  },
  {
   "cell_type": "code",
   "execution_count": null,
   "id": "6dba2866",
   "metadata": {},
   "outputs": [],
   "source": [
    "a.intersection(b)"
   ]
  },
  {
   "cell_type": "code",
   "execution_count": null,
   "id": "38ec833e",
   "metadata": {},
   "outputs": [],
   "source": [
    "a.union(b)"
   ]
  },
  {
   "cell_type": "code",
   "execution_count": null,
   "id": "02c5ffb9",
   "metadata": {},
   "outputs": [],
   "source": [
    "a.symmetric_difference(b)"
   ]
  },
  {
   "cell_type": "markdown",
   "id": "b2b276a3",
   "metadata": {},
   "source": [
    "## 2.3. Некоммутативність операції difference()"
   ]
  },
  {
   "cell_type": "code",
   "execution_count": null,
   "id": "8b98d3bf",
   "metadata": {},
   "outputs": [],
   "source": [
    "a - b"
   ]
  },
  {
   "cell_type": "code",
   "execution_count": null,
   "id": "038d4e36",
   "metadata": {},
   "outputs": [],
   "source": [
    "b - a"
   ]
  },
  {
   "cell_type": "code",
   "execution_count": null,
   "id": "3ffab8ef",
   "metadata": {},
   "outputs": [],
   "source": [
    "a.difference(b)"
   ]
  },
  {
   "cell_type": "code",
   "execution_count": null,
   "id": "e3dba807",
   "metadata": {},
   "outputs": [],
   "source": [
    "b.difference(a)"
   ]
  },
  {
   "cell_type": "markdown",
   "id": "a8c03911",
   "metadata": {},
   "source": [
    "# 3. List and set comprehensions"
   ]
  },
  {
   "cell_type": "code",
   "execution_count": null,
   "id": "4eab611f",
   "metadata": {},
   "outputs": [],
   "source": [
    "compr_list = [i for i in range(0, 10)]"
   ]
  },
  {
   "cell_type": "code",
   "execution_count": null,
   "id": "021cdd5f",
   "metadata": {},
   "outputs": [],
   "source": [
    "print(compr_list)"
   ]
  },
  {
   "cell_type": "code",
   "execution_count": null,
   "id": "1dcac4e3",
   "metadata": {},
   "outputs": [],
   "source": [
    "compr_list_str = \"Зродились ми великої години з пожеж війни і полум'я вогнів\""
   ]
  },
  {
   "cell_type": "code",
   "execution_count": null,
   "id": "2a3f667f",
   "metadata": {
    "scrolled": true
   },
   "outputs": [],
   "source": [
    "[symbol for symbol in compr_list_str]"
   ]
  },
  {
   "cell_type": "code",
   "execution_count": null,
   "id": "84d0cbdd",
   "metadata": {},
   "outputs": [],
   "source": [
    "compr_set_1 = {i for i in range(0, 10)}"
   ]
  },
  {
   "cell_type": "code",
   "execution_count": null,
   "id": "fbe9be9b",
   "metadata": {},
   "outputs": [],
   "source": [
    "print(compr_set_1)"
   ]
  },
  {
   "cell_type": "code",
   "execution_count": null,
   "id": "42b22ef6",
   "metadata": {},
   "outputs": [],
   "source": [
    "compr_set_2 = {[i] for i in range(0, 10)}"
   ]
  },
  {
   "cell_type": "code",
   "execution_count": null,
   "id": "c3806b8f",
   "metadata": {},
   "outputs": [],
   "source": [
    "print(compr_set_2)"
   ]
  },
  {
   "cell_type": "code",
   "execution_count": null,
   "id": "c303642e",
   "metadata": {},
   "outputs": [],
   "source": [
    "compr_set_3 = {(i) for i in range(0, 10)}"
   ]
  },
  {
   "cell_type": "code",
   "execution_count": null,
   "id": "056f643b",
   "metadata": {},
   "outputs": [],
   "source": [
    "print(compr_set_3)"
   ]
  },
  {
   "cell_type": "code",
   "execution_count": null,
   "id": "48a3141c",
   "metadata": {},
   "outputs": [],
   "source": [
    "#Tuple comprehension\n",
    "(i for i in range(0,10))"
   ]
  },
  {
   "cell_type": "code",
   "execution_count": null,
   "id": "e8d668f6",
   "metadata": {},
   "outputs": [],
   "source": [
    "action_list_compr = [(m, m**2) for m in range(1,101) if m%10 == 0]"
   ]
  },
  {
   "cell_type": "code",
   "execution_count": null,
   "id": "046894f6",
   "metadata": {},
   "outputs": [],
   "source": [
    "action_list_compr"
   ]
  },
  {
   "cell_type": "markdown",
   "id": "1c98229f",
   "metadata": {},
   "source": [
    "# 4. range(0,3) vs [0,1,2]"
   ]
  },
  {
   "cell_type": "code",
   "execution_count": null,
   "id": "d9fc2771",
   "metadata": {},
   "outputs": [],
   "source": [
    "import sys"
   ]
  },
  {
   "cell_type": "code",
   "execution_count": null,
   "id": "179710af",
   "metadata": {},
   "outputs": [],
   "source": [
    "sys.getsizeof(range(0,10000000))"
   ]
  },
  {
   "cell_type": "code",
   "execution_count": null,
   "id": "f2b2844e",
   "metadata": {},
   "outputs": [],
   "source": [
    "sys.getsizeof([i for i in range(0, 10000000)])"
   ]
  },
  {
   "cell_type": "markdown",
   "id": "8c150eb0",
   "metadata": {},
   "source": [
    "# 5. Трошки про itertools"
   ]
  },
  {
   "cell_type": "code",
   "execution_count": null,
   "id": "c2e95c1b",
   "metadata": {},
   "outputs": [],
   "source": [
    "import itertools"
   ]
  },
  {
   "cell_type": "code",
   "execution_count": null,
   "id": "1f24242e",
   "metadata": {},
   "outputs": [],
   "source": [
    "a = [1,2,3,4,5]\n",
    "b = [6,7,8,9,10]"
   ]
  },
  {
   "cell_type": "code",
   "execution_count": null,
   "id": "433f8704",
   "metadata": {},
   "outputs": [],
   "source": [
    "itertools.product(a, b)"
   ]
  },
  {
   "cell_type": "code",
   "execution_count": null,
   "id": "0c5cabf7",
   "metadata": {},
   "outputs": [],
   "source": [
    "list(itertools.product(a, b))"
   ]
  },
  {
   "cell_type": "code",
   "execution_count": null,
   "id": "b43a46b0",
   "metadata": {},
   "outputs": [],
   "source": [
    "list(itertools.permutations(a))"
   ]
  },
  {
   "cell_type": "markdown",
   "id": "4fae4467",
   "metadata": {},
   "source": [
    "# 5. sum() і map()"
   ]
  },
  {
   "cell_type": "code",
   "execution_count": null,
   "id": "6526113d",
   "metadata": {},
   "outputs": [],
   "source": [
    "a = [i**3 for i in range(0, 25) if i%3 == 1]"
   ]
  },
  {
   "cell_type": "code",
   "execution_count": null,
   "id": "7f7e6cbb",
   "metadata": {},
   "outputs": [],
   "source": [
    "sum(a)"
   ]
  },
  {
   "cell_type": "code",
   "execution_count": null,
   "id": "c690e44e",
   "metadata": {},
   "outputs": [],
   "source": [
    "from math import sqrt\n",
    "\n",
    "sqrt_list = map(sqrt, a)\n",
    "str_list = map(str, a)"
   ]
  },
  {
   "cell_type": "code",
   "execution_count": null,
   "id": "02ecb873",
   "metadata": {},
   "outputs": [],
   "source": [
    "list(sqrt_list)"
   ]
  },
  {
   "cell_type": "code",
   "execution_count": null,
   "id": "e63403c7",
   "metadata": {},
   "outputs": [],
   "source": [
    "list(str_list)"
   ]
  },
  {
   "cell_type": "markdown",
   "id": "08de8961",
   "metadata": {},
   "source": [
    "# 6. NumPy (прекрасна документація лежить [тут](https://numpy.org/doc/stable/user/absolute_beginners.html))"
   ]
  },
  {
   "cell_type": "code",
   "execution_count": null,
   "id": "feb016a5",
   "metadata": {},
   "outputs": [],
   "source": [
    "import numpy as np"
   ]
  },
  {
   "cell_type": "code",
   "execution_count": null,
   "id": "ccba04d1",
   "metadata": {},
   "outputs": [],
   "source": [
    "np.arange(6)"
   ]
  },
  {
   "cell_type": "code",
   "execution_count": null,
   "id": "9feaf7b6",
   "metadata": {},
   "outputs": [],
   "source": [
    "type(np.arange(5))"
   ]
  },
  {
   "cell_type": "code",
   "execution_count": null,
   "id": "04b8e3f4",
   "metadata": {},
   "outputs": [],
   "source": [
    "type(np.arange(19)[4])"
   ]
  },
  {
   "cell_type": "code",
   "execution_count": null,
   "id": "e19ceba2",
   "metadata": {},
   "outputs": [],
   "source": [
    "np.array([1, 2, 3])"
   ]
  },
  {
   "cell_type": "code",
   "execution_count": null,
   "id": "b647e5c2",
   "metadata": {},
   "outputs": [],
   "source": [
    "np.zeros(2)"
   ]
  },
  {
   "cell_type": "code",
   "execution_count": null,
   "id": "990a2383",
   "metadata": {},
   "outputs": [],
   "source": [
    "type(np.zeros(4)[3])"
   ]
  },
  {
   "cell_type": "code",
   "execution_count": null,
   "id": "10abbc05",
   "metadata": {},
   "outputs": [],
   "source": [
    "np.ones([10, 10])"
   ]
  },
  {
   "cell_type": "code",
   "execution_count": null,
   "id": "7f986a41",
   "metadata": {},
   "outputs": [],
   "source": [
    "np.linspace(0, 10, num=100)"
   ]
  },
  {
   "cell_type": "code",
   "execution_count": null,
   "id": "6fea40bc",
   "metadata": {},
   "outputs": [],
   "source": [
    "np.ones([3, 3], dtype=np.int64)"
   ]
  },
  {
   "cell_type": "markdown",
   "id": "8189873c",
   "metadata": {},
   "source": [
    "# 7. Рядки та списки"
   ]
  },
  {
   "cell_type": "code",
   "execution_count": null,
   "id": "e0fb677a",
   "metadata": {},
   "outputs": [],
   "source": [
    "string_to_list = \"1,2,3,4,5\""
   ]
  },
  {
   "cell_type": "code",
   "execution_count": null,
   "id": "74440b93",
   "metadata": {},
   "outputs": [],
   "source": [
    "list_to_string = string_to_list.split(\",\")"
   ]
  },
  {
   "cell_type": "code",
   "execution_count": null,
   "id": "01496ce8",
   "metadata": {},
   "outputs": [],
   "source": [
    "\"\""
   ]
  }
 ],
 "metadata": {
  "kernelspec": {
   "display_name": "Python 3.10",
   "language": "python",
   "name": "python310"
  },
  "language_info": {
   "codemirror_mode": {
    "name": "ipython",
    "version": 3
   },
   "file_extension": ".py",
   "mimetype": "text/x-python",
   "name": "python",
   "nbconvert_exporter": "python",
   "pygments_lexer": "ipython3",
   "version": "3.10.9"
  }
 },
 "nbformat": 4,
 "nbformat_minor": 5
}
